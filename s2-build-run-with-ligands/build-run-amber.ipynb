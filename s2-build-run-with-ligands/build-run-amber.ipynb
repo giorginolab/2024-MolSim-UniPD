{
 "cells": [
  {
   "cell_type": "markdown",
   "metadata": {},
   "source": [
    "# Build and run a system with a non-peptide drug\n",
    "\n",
    "* Prepare the system splitting its components, using https://www.mdtraj.org/1.9.8.dev0/index.html\n",
    "* Parameterize the drug, https://ambermd.org/tutorials/basic/tutorial4b/\n",
    "* Use tleap (part of ambertools) to build\n",
    "* Use miniomm to run"
   ]
  },
  {
   "cell_type": "code",
   "execution_count": 4,
   "metadata": {},
   "outputs": [
    {
     "name": "stdout",
     "output_type": "stream",
     "text": [
      "/Users/toni/Apps/anaconda-m1/envs/openmm/bin/antechamber\n"
     ]
    }
   ],
   "source": [
    "# Check availability\n",
    "\n",
    "!which antechamber"
   ]
  },
  {
   "cell_type": "code",
   "execution_count": 7,
   "metadata": {},
   "outputs": [
    {
     "name": "stdout",
     "output_type": "stream",
     "text": [
      "HEADER    TRANSFERASE                             09-APR-08   3CS9              \n",
      "TITLE     HUMAN ABL KINASE IN COMPLEX WITH NILOTINIB                            \n",
      "COMPND    MOL_ID: 1;                                                            \n",
      "COMPND   2 MOLECULE: PROTO-ONCOGENE TYROSINE-PROTEIN KINASE ABL1;               \n",
      "COMPND   3 CHAIN: A, B, C, D;                                                   \n",
      "COMPND   4 FRAGMENT: KINASE DOMAIN (UNP RESIDUES 229-500);                      \n",
      "COMPND   5 SYNONYM: P150, C-ABL, ABELSON MURINE LEUKEMIA VIRAL ONCOGENE HOMOLOG \n",
      "COMPND   6 1;                                                                   \n",
      "COMPND   7 EC: 2.7.10.2;                                                        \n",
      "COMPND   8 ENGINEERED: YES                                                      \n"
     ]
    }
   ],
   "source": [
    "# Split into chains. Check the one with the most modelled residues.\n",
    "# In this particular case, the PDB contains 4 chains with the same sequence, all bound to NIL (nilotinib).\n",
    "\n",
    "!head 3CS9.pdb"
   ]
  },
  {
   "cell_type": "code",
   "execution_count": 15,
   "metadata": {},
   "outputs": [],
   "source": [
    "import mdtraj as mdt\n",
    "\n",
    "pdb = mdt.load(\"3CS9.pdb\")"
   ]
  },
  {
   "cell_type": "code",
   "execution_count": 16,
   "metadata": {},
   "outputs": [
    {
     "data": {
      "text/plain": [
       "12"
      ]
     },
     "execution_count": 16,
     "metadata": {},
     "output_type": "execute_result"
    }
   ],
   "source": [
    "pdb.n_chains"
   ]
  },
  {
   "cell_type": "code",
   "execution_count": 36,
   "metadata": {},
   "outputs": [
    {
     "name": "stdout",
     "output_type": "stream",
     "text": [
      "Chain 0 has 264 residues and 2142 atoms.\n",
      "  First residue is ASP233\n",
      "Chain 1 has 247 residues and 2021 atoms.\n",
      "  First residue is ASP233\n",
      "Chain 2 has 243 residues and 1984 atoms.\n",
      "  First residue is TYR232\n",
      "Chain 3 has 263 residues and 2115 atoms.\n",
      "  First residue is ASP233\n",
      "Chain 4 has 1 residues and 39 atoms.\n",
      "  First residue is NIL600\n",
      "Chain 5 has 1 residues and 39 atoms.\n",
      "  First residue is NIL600\n",
      "Chain 6 has 1 residues and 39 atoms.\n",
      "  First residue is NIL600\n",
      "Chain 7 has 1 residues and 39 atoms.\n",
      "  First residue is NIL600\n",
      "Chain 8 has 99 residues and 99 atoms.\n",
      "  First residue is HOH601\n",
      "Chain 9 has 79 residues and 79 atoms.\n",
      "  First residue is HOH601\n",
      "Chain 10 has 63 residues and 63 atoms.\n",
      "  First residue is HOH601\n",
      "Chain 11 has 25 residues and 25 atoms.\n",
      "  First residue is HOH601\n"
     ]
    }
   ],
   "source": [
    "for i,c in enumerate(pdb.topology.chains):\n",
    "    print(f\"Chain {i} has {c.n_residues} residues and {c.n_atoms} atoms.\")\n",
    "    r1 = c.residue(0)\n",
    "    print(f\"  First residue is {r1}\")"
   ]
  },
  {
   "cell_type": "markdown",
   "metadata": {},
   "source": [
    "Ok. So the best chain is chain 0 with the corresponding ligand, chain 4. Extract them."
   ]
  },
  {
   "cell_type": "code",
   "execution_count": 34,
   "metadata": {},
   "outputs": [],
   "source": [
    "pdb.atom_slice(pdb.topology.select(\"chainid 0\")).save(\"chain0.pdb\")"
   ]
  },
  {
   "cell_type": "code",
   "execution_count": 46,
   "metadata": {},
   "outputs": [],
   "source": [
    "# Saving the NIL.pdb from mdtraj works but has wrong connectivity. Do it another way\n",
    "nil=pdb.atom_slice(pdb.topology.select(\"chainid 4\"))"
   ]
  },
  {
   "cell_type": "code",
   "execution_count": 69,
   "metadata": {},
   "outputs": [],
   "source": [
    "! grep \"NIL A\" 3CS9.pdb > NIL.pdb"
   ]
  },
  {
   "cell_type": "markdown",
   "metadata": {},
   "source": [
    "## Model the ligand\n",
    "\n",
    "Here we use antechamber (AmberTools). See https://ambermd.org/AmberTools.php .\n",
    "Several steps are involved, mostly format conversion and bond detection.\n",
    "\n",
    "Determine the charge of the molecules."
   ]
  },
  {
   "cell_type": "code",
   "execution_count": 70,
   "metadata": {},
   "outputs": [
    {
     "name": "stdout",
     "output_type": "stream",
     "text": [
      "Processing file: \"NIL.pdb\"\n",
      "Building or keeping OH & SH Hydrogens.\n",
      "WARNING: atom H27A from NIL will be treated as hydrogen\n",
      "WARNING: atom H27B from NIL will be treated as hydrogen\n",
      "WARNING: atom H27A from NIL will be treated as hydrogen\n",
      "WARNING: atom H27A from NIL will be treated as hydrogen\n",
      "WARNING: atom H27B from NIL will be treated as hydrogen\n",
      "WARNING: atom H27B from NIL will be treated as hydrogen\n",
      "WARNING: atom H27A from NIL will be treated as hydrogen\n",
      "WARNING: atom H27B from NIL will be treated as hydrogen\n",
      "WARNING: atom HN14 from NIL will be treated as hydrogen\n",
      "WARNING: atom HN14 from NIL will be treated as hydrogen\n",
      "WARNING: atom HN31 from NIL will be treated as hydrogen\n",
      "WARNING: atom HN31 from NIL will be treated as hydrogen\n",
      "WARNING: atom HN31 from NIL will be treated as hydrogen\n",
      "WARNING: atom HN14 from NIL will be treated as hydrogen\n",
      "WARNING: atom H27B from NIL will be treated as hydrogen\n",
      "WARNING: atom H27B from NIL will be treated as hydrogen\n",
      "WARNING: atom H27A from NIL will be treated as hydrogen\n",
      "WARNING: atom H27A from NIL will be treated as hydrogen\n",
      "WARNING: atom H27B from NIL will be treated as hydrogen\n",
      "WARNING: atom H27A from NIL will be treated as hydrogen\n",
      "WARNING: atom H27B from NIL will be treated as hydrogen\n",
      "WARNING: atom H27A from NIL will be treated as hydrogen\n",
      "VDW dot density = 16/A^2\n",
      "Probe radius = 0.25A\n",
      "Orientation penalty scale = 1 (100%)\n",
      "Eliminate contacts within 3 bonds.\n",
      "Ignore atoms with |occupancy| <= 0.01 during adjustments.\n",
      "Waters ignored if B-Factor >= 40 or |occupancy| < 0.66\n",
      "Aromatic rings in amino acids accept hydrogen bonds.\n",
      "Rotating NH3 Hydrogens.\n",
      "Not processing Met methyls.\n",
      " Singles(size 2): A 600 NIL C27 : A 600 NIL C58 \n",
      " orientation 2: A 600 NIL C27 :methyl  -30: bump=-0.355, HB=0.000, total=0.304\n",
      " orientation 1: A 600 NIL C58 :methyl  150: bump=0.000, HB=0.000, total=0.000\n",
      "Found 0 hydrogens (0 hets)\n",
      "Standardized 0 hydrogens (0 hets)\n",
      "Added 22 hydrogens (22 hets)\n",
      "Adjusted 1 group(s)\n",
      "If you publish work which uses reduce, please cite:\n",
      "Word, et. al. (1999) J. Mol. Biol. 285, 1735-1747.\n",
      "For more information see http://kinemage.biochem.duke.edu\n"
     ]
    }
   ],
   "source": [
    "! reduce NIL.pdb > NIL_r.pdb"
   ]
  },
  {
   "cell_type": "code",
   "execution_count": 71,
   "metadata": {},
   "outputs": [
    {
     "name": "stdout",
     "output_type": "stream",
     "text": [
      "\n",
      "Welcome to antechamber 22.0: molecular input file processor.\n",
      "\n",
      "Info: acdoctor mode is on: check and diagnose problems in the input file.\n",
      "Info: The atom type is set to gaff; the options available to the -at flag are\n",
      "      gaff, gaff2, amber, bcc, and sybyl.\n",
      "\n",
      "-- Check Format for pdb File --\n",
      "   Status: pass\n",
      "-- Check Unusual Elements --\n",
      "   Status: pass\n",
      "-- Check Open Valences --\n",
      "   Status: pass\n",
      "-- Check Geometry --\n",
      "      for those bonded   \n",
      "      for those not bonded   \n",
      "   Status: pass\n",
      "-- Check Weird Bonds --\n",
      "   Status: pass\n",
      "-- Check Number of Units --\n",
      "   Status: pass\n",
      "acdoctor mode has completed checking the input file.\n",
      "\n",
      "Info: Total number of electrons: 274; net charge: 0\n",
      "\n",
      "Running: /Users/toni/Apps/anaconda-m1/envs/openmm/bin/sqm -O -i sqm.in -o sqm.out\n",
      "\n"
     ]
    }
   ],
   "source": [
    "# Really slow\n",
    "# ! antechamber -fi pdb -i NIL_r.pdb -fo mol2 -o NIL_r.mol2 -at gaff -c bcc -pf y \n",
    "!cp NIL_r_precomputed.mol2 NIL_r.mol2"
   ]
  },
  {
   "cell_type": "code",
   "execution_count": 73,
   "metadata": {},
   "outputs": [],
   "source": [
    "! parmchk2 -i NIL_r.mol2 -s gaff2 -f mol2 -o NIL.frcmod"
   ]
  },
  {
   "cell_type": "code",
   "execution_count": null,
   "metadata": {},
   "outputs": [],
   "source": []
  },
  {
   "cell_type": "code",
   "execution_count": 74,
   "metadata": {},
   "outputs": [
    {
     "name": "stdout",
     "output_type": "stream",
     "text": [
      "Collecting git+https://github.com/giorginolab/miniomm\n",
      "  Cloning https://github.com/giorginolab/miniomm to /private/var/folders/qz/7p0f8wdj4zdd8nwxm89xzhy80000gn/T/pip-req-build-3rfgq1ef\n",
      "  Running command git clone --filter=blob:none --quiet https://github.com/giorginolab/miniomm /private/var/folders/qz/7p0f8wdj4zdd8nwxm89xzhy80000gn/T/pip-req-build-3rfgq1ef\n",
      "^C\n",
      "\u001b[31mERROR: Operation cancelled by user\u001b[0m\u001b[31m\n",
      "\u001b[0m"
     ]
    }
   ],
   "source": [
    "!pip install git+https://github.com/giorginolab/miniomm"
   ]
  },
  {
   "cell_type": "code",
   "execution_count": null,
   "metadata": {},
   "outputs": [],
   "source": []
  },
  {
   "cell_type": "code",
   "execution_count": null,
   "metadata": {},
   "outputs": [],
   "source": []
  },
  {
   "cell_type": "code",
   "execution_count": null,
   "metadata": {},
   "outputs": [],
   "source": []
  },
  {
   "cell_type": "markdown",
   "metadata": {},
   "source": []
  }
 ],
 "metadata": {
  "kernelspec": {
   "display_name": "openmm",
   "language": "python",
   "name": "python3"
  },
  "language_info": {
   "codemirror_mode": {
    "name": "ipython",
    "version": 3
   },
   "file_extension": ".py",
   "mimetype": "text/x-python",
   "name": "python",
   "nbconvert_exporter": "python",
   "pygments_lexer": "ipython3",
   "version": "3.11.0"
  }
 },
 "nbformat": 4,
 "nbformat_minor": 2
}
