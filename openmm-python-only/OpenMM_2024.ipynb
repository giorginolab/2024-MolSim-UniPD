{
  "cells": [
    {
      "cell_type": "markdown",
      "metadata": {
        "id": "view-in-github",
        "colab_type": "text"
      },
      "source": [
        "<a href=\"https://colab.research.google.com/github/giorginolab/2024-MolSim-UniPD/blob/main/OpenMM_2024.ipynb\" target=\"_parent\"><img src=\"https://colab.research.google.com/assets/colab-badge.svg\" alt=\"Open In Colab\"/></a>"
      ]
    },
    {
      "cell_type": "markdown",
      "metadata": {
        "id": "oeIY1rm5iMoS"
      },
      "source": [
        "# Colab-specific instructions start here\n",
        "\n",
        "Note to myself: a copy of this file should be in https://github.com/giorginolab/MD-Tutorial-Data/blob/main/notebooks/1_OpenMM_build.ipynb"
      ]
    },
    {
      "cell_type": "code",
      "source": [
        "# Here we use a Conda environment inside Google Colab. Blocks specific for Colab\n",
        "# (like this one) mention \"condacolab\". On \"normal\" platforms the procedure\n",
        "# for installation may be different - you need to check the system's documentation.\n",
        "\n",
        "# Colab notebooks are \"brittle\": in the course of time Colab is updated\n",
        "# and dependencies no longer work properly. Proper HPC platforms are more\n",
        "# stable (and supported)\n",
        "\n",
        "# After executing this cell, Colab restarts.\n",
        "\n",
        "if 'google.colab' in str(get_ipython()):\n",
        "  ! pip install -q condacolab\n",
        "  import condacolab\n",
        "  condacolab.install_miniforge()"
      ],
      "metadata": {
        "colab": {
          "base_uri": "https://localhost:8080/"
        },
        "id": "JAEqnt4SnTJD",
        "outputId": "dee72cd2-2e05-4faa-ca9f-f7d5bb099b51"
      },
      "execution_count": 1,
      "outputs": [
        {
          "output_type": "stream",
          "name": "stdout",
          "text": [
            "\u001b[33mWARNING: Running pip as the 'root' user can result in broken permissions and conflicting behaviour with the system package manager. It is recommended to use a virtual environment instead: https://pip.pypa.io/warnings/venv\u001b[0m\u001b[33m\n",
            "\u001b[0m✨🍰✨ Everything looks OK!\n"
          ]
        }
      ]
    },
    {
      "cell_type": "code",
      "source": [
        "if 'google.colab' in str(get_ipython()):\n",
        "  condacolab.check()"
      ],
      "metadata": {
        "colab": {
          "base_uri": "https://localhost:8080/"
        },
        "id": "P0W7Hh7YqfTU",
        "outputId": "1d8aad1e-2a72-4859-fdb0-7de0f2b5f595"
      },
      "execution_count": 2,
      "outputs": [
        {
          "output_type": "stream",
          "name": "stdout",
          "text": [
            "✨🍰✨ Everything looks OK!\n"
          ]
        }
      ]
    },
    {
      "cell_type": "code",
      "source": [
        "# Colab-specific workaround for a weird error upon shell escape:\n",
        "#   NotImplementedError: A UTF-8 locale is required. Got ANSI_X3.4-1968\n",
        "if 'google.colab' in str(get_ipython()):\n",
        "  import locale\n",
        "  def getpreferredencoding(do_setlocale = True):\n",
        "    return \"UTF-8\"\n",
        "  locale.getpreferredencoding = getpreferredencoding"
      ],
      "metadata": {
        "id": "-MReG_6ZoJGw"
      },
      "execution_count": 3,
      "outputs": []
    },
    {
      "cell_type": "code",
      "source": [
        "# Install OpenMM. Takes a long time (unless already installed).\n",
        "if 'google.colab' in str(get_ipython()):\n",
        "  !conda install -q -c conda-forge openmm openmmforcefields openmmtools pdbfixer"
      ],
      "metadata": {
        "colab": {
          "base_uri": "https://localhost:8080/"
        },
        "id": "sEPay7j6oqf-",
        "outputId": "c89bb4af-a666-44e6-97e2-9d2774d0f26e"
      },
      "execution_count": 4,
      "outputs": [
        {
          "output_type": "stream",
          "name": "stdout",
          "text": [
            "Channels:\n",
            " - conda-forge\n",
            "Platform: linux-64\n",
            "Collecting package metadata (repodata.json): ...working... done\n",
            "Solving environment: ...working... done\n",
            "\n",
            "## Package Plan ##\n",
            "\n",
            "  environment location: /usr/local\n",
            "\n",
            "  added / updated specs:\n",
            "    - openmm\n",
            "    - openmmforcefields\n",
            "    - openmmtools\n",
            "    - pdbfixer\n",
            "\n",
            "\n",
            "The following packages will be downloaded:\n",
            "\n",
            "    package                    |            build\n",
            "    ---------------------------|-----------------\n",
            "    ambertools-23.6            |nompi_py310hba4a467_102        90.3 MB  conda-forge\n",
            "    annotated-types-0.6.0      |     pyhd8ed1ab_0          17 KB  conda-forge\n",
            "    anyio-4.3.0                |     pyhd8ed1ab_0         100 KB  conda-forge\n",
            "    argon2-cffi-23.1.0         |     pyhd8ed1ab_0          18 KB  conda-forge\n",
            "    argon2-cffi-bindings-21.2.0|  py310h2372a71_4          34 KB  conda-forge\n",
            "    arpack-3.8.0               |nompi_h0baa96a_101         214 KB  conda-forge\n",
            "    arrow-1.3.0                |     pyhd8ed1ab_0          98 KB  conda-forge\n",
            "    asttokens-2.4.1            |     pyhd8ed1ab_0          28 KB  conda-forge\n",
            "    astunparse-1.6.3           |     pyhd8ed1ab_0          15 KB  conda-forge\n",
            "    async-lru-2.0.4            |     pyhd8ed1ab_0          15 KB  conda-forge\n",
            "    attrs-23.2.0               |     pyh71513ae_0          53 KB  conda-forge\n",
            "    babel-2.14.0               |     pyhd8ed1ab_0         7.3 MB  conda-forge\n",
            "    beautifulsoup4-4.12.3      |     pyha770c72_0         115 KB  conda-forge\n",
            "    bleach-6.1.0               |     pyhd8ed1ab_0         128 KB  conda-forge\n",
            "    blosc-1.21.5               |       hc2324a3_1          48 KB  conda-forge\n",
            "    brotli-1.1.0               |       hd590300_1          19 KB  conda-forge\n",
            "    brotli-bin-1.1.0           |       hd590300_1          19 KB  conda-forge\n",
            "    bson-0.5.9                 |             py_0          14 KB  conda-forge\n",
            "    c-blosc2-2.14.4            |       hb4ffafa_1         329 KB  conda-forge\n",
            "    ca-certificates-2024.2.2   |       hbcca054_0         152 KB  conda-forge\n",
            "    cached-property-1.5.2      |       hd8ed1ab_1           4 KB  conda-forge\n",
            "    cached_property-1.5.2      |     pyha770c72_1          11 KB  conda-forge\n",
            "    cachetools-5.3.3           |     pyhd8ed1ab_0          14 KB  conda-forge\n",
            "    cairo-1.18.0               |       h3faef2a_0         959 KB  conda-forge\n",
            "    certifi-2024.2.2           |     pyhd8ed1ab_0         157 KB  conda-forge\n",
            "    cftime-1.6.3               |  py310h1f7b6fc_0         241 KB  conda-forge\n",
            "    chardet-5.2.0              |  py310hff52083_1         241 KB  conda-forge\n",
            "    comm-0.2.2                 |     pyhd8ed1ab_0          12 KB  conda-forge\n",
            "    contourpy-1.2.1            |  py310hd41b1e2_0         236 KB  conda-forge\n",
            "    cudatoolkit-11.8.0         |      h4ba93d1_13       682.5 MB  conda-forge\n",
            "    cycler-0.12.1              |     pyhd8ed1ab_0          13 KB  conda-forge\n",
            "    debugpy-1.8.1              |  py310hc6cd4ac_0         1.8 MB  conda-forge\n",
            "    decorator-5.1.1            |     pyhd8ed1ab_0          12 KB  conda-forge\n",
            "    defusedxml-0.7.1           |     pyhd8ed1ab_0          23 KB  conda-forge\n",
            "    entrypoints-0.4            |     pyhd8ed1ab_0           9 KB  conda-forge\n",
            "    exceptiongroup-1.2.0       |     pyhd8ed1ab_2          20 KB  conda-forge\n",
            "    executing-2.0.1            |     pyhd8ed1ab_0          27 KB  conda-forge\n",
            "    expat-2.6.2                |       h59595ed_0         134 KB  conda-forge\n",
            "    fftw-3.3.10                |nompi_hc118613_108         1.9 MB  conda-forge\n",
            "    font-ttf-dejavu-sans-mono-2.37|       hab24e00_0         388 KB  conda-forge\n",
            "    font-ttf-inconsolata-3.000 |       h77eed37_0          94 KB  conda-forge\n",
            "    font-ttf-source-code-pro-2.038|       h77eed37_0         684 KB  conda-forge\n",
            "    font-ttf-ubuntu-0.83       |       h77eed37_2         1.5 MB  conda-forge\n",
            "    fontconfig-2.14.2          |       h14ed4e7_0         266 KB  conda-forge\n",
            "    fonts-conda-ecosystem-1    |                0           4 KB  conda-forge\n",
            "    fonts-conda-forge-1        |                0           4 KB  conda-forge\n",
            "    fonttools-4.51.0           |  py310h2372a71_0         2.2 MB  conda-forge\n",
            "    fqdn-1.5.1                 |     pyhd8ed1ab_0          14 KB  conda-forge\n",
            "    freetype-2.12.1            |       h267a509_2         620 KB  conda-forge\n",
            "    freetype-py-2.3.0          |     pyhd8ed1ab_0          58 KB  conda-forge\n",
            "    greenlet-3.0.3             |  py310hc6cd4ac_0         206 KB  conda-forge\n",
            "    h11-0.14.0                 |     pyhd8ed1ab_0          47 KB  conda-forge\n",
            "    h2-4.1.0                   |     pyhd8ed1ab_0          46 KB  conda-forge\n",
            "    hdf4-4.2.15                |       h2a13503_7         739 KB  conda-forge\n",
            "    hdf5-1.14.3                |nompi_h4f84152_100         3.7 MB  conda-forge\n",
            "    hpack-4.0.0                |     pyh9f0ad1d_0          25 KB  conda-forge\n",
            "    httpcore-1.0.5             |     pyhd8ed1ab_0          45 KB  conda-forge\n",
            "    httpx-0.27.0               |     pyhd8ed1ab_0          63 KB  conda-forge\n",
            "    hyperframe-6.0.1           |     pyhd8ed1ab_0          14 KB  conda-forge\n",
            "    importlib-metadata-7.1.0   |     pyha770c72_0          26 KB  conda-forge\n",
            "    importlib_metadata-7.1.0   |       hd8ed1ab_0           9 KB  conda-forge\n",
            "    importlib_resources-6.4.0  |     pyhd8ed1ab_0          32 KB  conda-forge\n",
            "    ipykernel-6.29.3           |     pyhd33586a_0         116 KB  conda-forge\n",
            "    ipython-8.22.2             |     pyh707e725_0         580 KB  conda-forge\n",
            "    ipywidgets-8.1.2           |     pyhd8ed1ab_0         111 KB  conda-forge\n",
            "    isoduration-20.11.0        |     pyhd8ed1ab_0          17 KB  conda-forge\n",
            "    jax-0.4.26                 |     pyhd8ed1ab_0         1.2 MB  conda-forge\n",
            "    jaxlib-0.4.23              |cpu_py310h8d585fe_0        52.2 MB  conda-forge\n",
            "    jedi-0.19.1                |     pyhd8ed1ab_0         822 KB  conda-forge\n",
            "    jinja2-3.1.3               |     pyhd8ed1ab_0         109 KB  conda-forge\n",
            "    joblib-1.4.2               |     pyhd8ed1ab_0         215 KB  conda-forge\n",
            "    json5-0.9.25               |     pyhd8ed1ab_0          27 KB  conda-forge\n",
            "    jsonschema-4.22.0          |     pyhd8ed1ab_0          72 KB  conda-forge\n",
            "    jsonschema-specifications-2023.12.1|     pyhd8ed1ab_0          16 KB  conda-forge\n",
            "    jsonschema-with-format-nongpl-4.22.0|     pyhd8ed1ab_0           7 KB  conda-forge\n",
            "    jupyter-lsp-2.2.5          |     pyhd8ed1ab_0          54 KB  conda-forge\n",
            "    jupyter_client-8.6.1       |     pyhd8ed1ab_0         104 KB  conda-forge\n",
            "    jupyter_core-5.7.2         |  py310hff52083_0          78 KB  conda-forge\n",
            "    jupyter_events-0.10.0      |     pyhd8ed1ab_0          21 KB  conda-forge\n",
            "    jupyter_server-2.14.0      |     pyhd8ed1ab_0         317 KB  conda-forge\n",
            "    jupyter_server_terminals-0.5.3|     pyhd8ed1ab_0          19 KB  conda-forge\n",
            "    jupyterlab-4.1.8           |     pyhd8ed1ab_0         7.3 MB  conda-forge\n",
            "    jupyterlab_pygments-0.3.0  |     pyhd8ed1ab_1          18 KB  conda-forge\n",
            "    jupyterlab_server-2.27.1   |     pyhd8ed1ab_0          48 KB  conda-forge\n",
            "    jupyterlab_widgets-3.0.10  |     pyhd8ed1ab_0         183 KB  conda-forge\n",
            "    kiwisolver-1.4.5           |  py310hd41b1e2_1          71 KB  conda-forge\n",
            "    lcms2-2.16                 |       hb7c19ff_0         239 KB  conda-forge\n",
            "    lerc-4.0.0                 |       h27087fc_0         275 KB  conda-forge\n",
            "    libabseil-20230802.1       | cxx17_h59595ed_0         1.2 MB  conda-forge\n",
            "    libaec-1.1.3               |       h59595ed_0          35 KB  conda-forge\n",
            "    libblas-3.9.0              |22_linux64_openblas          14 KB  conda-forge\n",
            "    libboost-1.84.0            |       h8013b2b_2         2.7 MB  conda-forge\n",
            "    libboost-python-1.84.0     |  py310hcb52e73_2         119 KB  conda-forge\n",
            "    libbrotlicommon-1.1.0      |       hd590300_1          68 KB  conda-forge\n",
            "    libbrotlidec-1.1.0         |       hd590300_1          32 KB  conda-forge\n",
            "    libbrotlienc-1.1.0         |       hd590300_1         276 KB  conda-forge\n",
            "    libcblas-3.9.0             |22_linux64_openblas          14 KB  conda-forge\n",
            "    libdeflate-1.20            |       hd590300_0          70 KB  conda-forge\n",
            "    libexpat-2.6.2             |       h59595ed_0          72 KB  conda-forge\n",
            "    libgfortran-ng-13.2.0      |       h69a702a_6          24 KB  conda-forge\n",
            "    libgfortran5-13.2.0        |       h43f5ff8_6         1.4 MB  conda-forge\n",
            "    libglib-2.80.0             |       hf2295e7_6         3.8 MB  conda-forge\n",
            "    libgrpc-1.59.3             |       hd6c4280_0         6.3 MB  conda-forge\n",
            "    libjpeg-turbo-3.0.0        |       hd590300_1         604 KB  conda-forge\n",
            "    liblapack-3.9.0            |22_linux64_openblas          14 KB  conda-forge\n",
            "    libllvm14-14.0.6           |       hcd5def8_4        30.0 MB  conda-forge\n",
            "    libnetcdf-4.9.2            |nompi_h9612171_113         829 KB  conda-forge\n",
            "    libopenblas-0.3.27         |pthreads_h413a1c8_0         5.3 MB  conda-forge\n",
            "    libpng-1.6.43              |       h2797004_0         281 KB  conda-forge\n",
            "    libprotobuf-4.24.4         |       hf27288f_0         2.4 MB  conda-forge\n",
            "    libre2-11-2023.09.01       |       h7a70373_1         227 KB  conda-forge\n",
            "    libsodium-1.0.18           |       h36c2ea0_1         366 KB  conda-forge\n",
            "    libtiff-4.6.0              |       h1dd3fc0_3         276 KB  conda-forge\n",
            "    libwebp-base-1.4.0         |       hd590300_0         429 KB  conda-forge\n",
            "    libxcb-1.15                |       h0b41bf4_0         375 KB  conda-forge\n",
            "    libxcrypt-4.4.36           |       hd590300_1          98 KB  conda-forge\n",
            "    libxslt-1.1.39             |       h76b75d6_0         248 KB  conda-forge\n",
            "    libzip-1.10.1              |       h2629f0a_3         105 KB  conda-forge\n",
            "    llvmlite-0.42.0            |  py310h1b8f574_1         3.2 MB  conda-forge\n",
            "    lxml-5.1.0                 |  py310hcfd0673_0         1.4 MB  conda-forge\n",
            "    markupsafe-2.1.5           |  py310h2372a71_0          24 KB  conda-forge\n",
            "    matplotlib-base-3.8.4      |  py310h62c0568_0         6.7 MB  conda-forge\n",
            "    matplotlib-inline-0.1.7    |     pyhd8ed1ab_0          14 KB  conda-forge\n",
            "    mda-xdrlib-0.2.0           |     pyhd8ed1ab_0          16 KB  conda-forge\n",
            "    mdtraj-1.9.9               |  py310h523e8d7_1         1.4 MB  conda-forge\n",
            "    mistune-3.0.2              |     pyhd8ed1ab_0          64 KB  conda-forge\n",
            "    ml_dtypes-0.4.0            |  py310hcc13569_0         159 KB  conda-forge\n",
            "    mpiplus-v0.0.2             |     pyhd8ed1ab_0          18 KB  conda-forge\n",
            "    munkres-1.1.4              |     pyh9f0ad1d_0          12 KB  conda-forge\n",
            "    nbclient-0.10.0            |     pyhd8ed1ab_0          27 KB  conda-forge\n",
            "    nbconvert-core-7.16.4      |     pyhd8ed1ab_0         185 KB  conda-forge\n",
            "    nbformat-5.10.4            |     pyhd8ed1ab_0          99 KB  conda-forge\n",
            "    nest-asyncio-1.6.0         |     pyhd8ed1ab_0          11 KB  conda-forge\n",
            "    netcdf-fortran-4.6.1       |nompi_hacb5139_103         422 KB  conda-forge\n",
            "    netcdf4-1.6.5              |nompi_py310hba70d50_100         537 KB  conda-forge\n",
            "    networkx-3.3               |     pyhd8ed1ab_1         1.1 MB  conda-forge\n",
            "    nomkl-1.0                  |       h5ca1d4c_0           4 KB  conda-forge\n",
            "    nose-1.3.7                 |          py_1006         118 KB  conda-forge\n",
            "    notebook-7.1.3             |     pyhd8ed1ab_0         3.8 MB  conda-forge\n",
            "    notebook-shim-0.2.4        |     pyhd8ed1ab_0          16 KB  conda-forge\n",
            "    numba-0.59.1               |  py310h7dc5dd1_0         4.1 MB  conda-forge\n",
            "    numexpr-2.9.0              |py310hc2d3c2e_100         132 KB  conda-forge\n",
            "    numpy-1.26.4               |  py310hb13e2d6_0         6.7 MB  conda-forge\n",
            "    ocl-icd-2.3.2              |       hd590300_1         133 KB  conda-forge\n",
            "    ocl-icd-system-1.0.0       |                1           4 KB  conda-forge\n",
            "    openff-amber-ff-ports-0.0.4|     pyhca7485f_0         182 KB  conda-forge\n",
            "    openff-forcefields-2024.04.0|     pyhca7485f_0          90 KB  conda-forge\n",
            "    openff-interchange-0.3.26  |     pyhd8ed1ab_0           7 KB  conda-forge\n",
            "    openff-interchange-base-0.3.26|     pyhd8ed1ab_0         644 KB  conda-forge\n",
            "    openff-models-0.1.2        |     pyhca7485f_0          15 KB  conda-forge\n",
            "    openff-toolkit-0.16.0      |     pyhd8ed1ab_0           8 KB  conda-forge\n",
            "    openff-toolkit-base-0.16.0 |     pyhd8ed1ab_0         7.6 MB  conda-forge\n",
            "    openff-units-0.2.2         |     pyhca7485f_0          22 KB  conda-forge\n",
            "    openff-utilities-0.1.12    |     pyhd8ed1ab_0          15 KB  conda-forge\n",
            "    openjpeg-2.5.2             |       h488ebb8_0         334 KB  conda-forge\n",
            "    openmm-8.1.1               |  py310h43b6314_1        11.1 MB  conda-forge\n",
            "    openmmforcefields-0.13.0   |     pyhd8ed1ab_0         2.3 MB  conda-forge\n",
            "    openmmtools-0.23.1         |     pyhd8ed1ab_0         7.6 MB  conda-forge\n",
            "    openssl-3.3.0              |       hd590300_0         2.8 MB  conda-forge\n",
            "    opt-einsum-3.3.0           |       hd8ed1ab_2           6 KB  conda-forge\n",
            "    opt_einsum-3.3.0           |     pyhc1e730c_2          57 KB  conda-forge\n",
            "    overrides-7.7.0            |     pyhd8ed1ab_0          30 KB  conda-forge\n",
            "    pandas-2.2.2               |  py310hcc13569_0        12.4 MB  conda-forge\n",
            "    pandocfilters-1.5.0        |     pyhd8ed1ab_0          11 KB  conda-forge\n",
            "    panedr-0.8.0               |     pyhd8ed1ab_0          29 KB  conda-forge\n",
            "    parmed-4.2.2               |  py310hc6cd4ac_1        18.2 MB  conda-forge\n",
            "    parso-0.8.4                |     pyhd8ed1ab_0          73 KB  conda-forge\n",
            "    pcre2-10.43                |       hcad00b1_0         929 KB  conda-forge\n",
            "    pdbfixer-1.9               |     pyh1a96a4e_0         489 KB  conda-forge\n",
            "    perl-5.32.1                | 7_hd590300_perl5        12.7 MB  conda-forge\n",
            "    pexpect-4.9.0              |     pyhd8ed1ab_0          52 KB  conda-forge\n",
            "    pickleshare-0.7.5          |          py_1003           9 KB  conda-forge\n",
            "    pillow-10.3.0              |  py310hf73ecf8_0        39.8 MB  conda-forge\n",
            "    pint-0.23                  |     pyhd8ed1ab_0         232 KB  conda-forge\n",
            "    pixman-0.43.2              |       h59595ed_0         378 KB  conda-forge\n",
            "    pkgutil-resolve-name-1.3.10|     pyhd8ed1ab_1          11 KB  conda-forge\n",
            "    prometheus_client-0.20.0   |     pyhd8ed1ab_0          48 KB  conda-forge\n",
            "    prompt-toolkit-3.0.42      |     pyha770c72_0         264 KB  conda-forge\n",
            "    psutil-5.9.8               |  py310h2372a71_0         360 KB  conda-forge\n",
            "    pthread-stubs-0.4          |    h36c2ea0_1001           5 KB  conda-forge\n",
            "    ptyprocess-0.7.0           |     pyhd3deb0d_0          16 KB  conda-forge\n",
            "    pure_eval-0.2.2            |     pyhd8ed1ab_0          14 KB  conda-forge\n",
            "    py-cpuinfo-9.0.0           |     pyhd8ed1ab_0          24 KB  conda-forge\n",
            "    pycairo-1.26.0             |  py310hda9f760_0         114 KB  conda-forge\n",
            "    pydantic-2.7.1             |     pyhd8ed1ab_0         276 KB  conda-forge\n",
            "    pydantic-core-2.18.2       |  py310he421c4c_0         1.5 MB  conda-forge\n",
            "    pyedr-0.8.0                |     pyhd8ed1ab_0         334 KB  conda-forge\n",
            "    pygments-2.18.0            |     pyhd8ed1ab_0         859 KB  conda-forge\n",
            "    pymbar-4.0.3               |       hff52083_1           6 KB  conda-forge\n",
            "    pymbar-core-4.0.3          |  py310h1f7b6fc_1         144 KB  conda-forge\n",
            "    pyparsing-3.1.2            |     pyhd8ed1ab_0          87 KB  conda-forge\n",
            "    pytables-3.9.2             |  py310hd76cd5d_2         1.3 MB  conda-forge\n",
            "    python-constraint-1.4.0    |             py_0          21 KB  conda-forge\n",
            "    python-dateutil-2.9.0      |     pyhd8ed1ab_0         218 KB  conda-forge\n",
            "    python-fastjsonschema-2.19.1|     pyhd8ed1ab_0         220 KB  conda-forge\n",
            "    python-json-logger-2.0.7   |     pyhd8ed1ab_0          13 KB  conda-forge\n",
            "    python-tzdata-2024.1       |     pyhd8ed1ab_0         141 KB  conda-forge\n",
            "    pytz-2024.1                |     pyhd8ed1ab_0         184 KB  conda-forge\n",
            "    pyyaml-6.0.1               |  py310h2372a71_1         167 KB  conda-forge\n",
            "    pyzmq-26.0.2               |  py310h6883aea_0         381 KB  conda-forge\n",
            "    rdkit-2024.03.2            |  py310h6f17f40_0        36.3 MB  conda-forge\n",
            "    re2-2023.09.01             |       h7f4b329_1          26 KB  conda-forge\n",
            "    referencing-0.35.1         |     pyhd8ed1ab_0          41 KB  conda-forge\n",
            "    reportlab-4.1.0            |  py310h2372a71_0         2.2 MB  conda-forge\n",
            "    rfc3339-validator-0.1.4    |     pyhd8ed1ab_0           8 KB  conda-forge\n",
            "    rfc3986-validator-0.1.1    |     pyh9f0ad1d_0           8 KB  conda-forge\n",
            "    rlpycairo-0.2.0            |     pyhd8ed1ab_0          15 KB  conda-forge\n",
            "    rpds-py-0.18.0             |  py310hcb5633a_0         894 KB  conda-forge\n",
            "    scipy-1.13.0               |  py310h93e2701_1        15.8 MB  conda-forge\n",
            "    send2trash-1.8.3           |     pyh0d859eb_0          22 KB  conda-forge\n",
            "    six-1.16.0                 |     pyh6c4a22f_0          14 KB  conda-forge\n",
            "    smirnoff99frosst-1.1.0     |     pyh44b312d_0          34 KB  conda-forge\n",
            "    snappy-1.2.0               |       hdb0a2a9_1          41 KB  conda-forge\n",
            "    sniffio-1.3.1              |     pyhd8ed1ab_0          15 KB  conda-forge\n",
            "    soupsieve-2.5              |     pyhd8ed1ab_1          36 KB  conda-forge\n",
            "    sqlalchemy-2.0.30          |  py310hc51659f_0         2.7 MB  conda-forge\n",
            "    stack_data-0.6.2           |     pyhd8ed1ab_0          26 KB  conda-forge\n",
            "    terminado-0.18.1           |     pyh0d859eb_0          22 KB  conda-forge\n",
            "    tinycss2-1.3.0             |     pyhd8ed1ab_0          25 KB  conda-forge\n",
            "    tinydb-4.8.0               |     pyhd8ed1ab_0          27 KB  conda-forge\n",
            "    tomli-2.0.1                |     pyhd8ed1ab_0          16 KB  conda-forge\n",
            "    tornado-6.4                |  py310h2372a71_0         636 KB  conda-forge\n",
            "    traitlets-5.14.3           |     pyhd8ed1ab_0         108 KB  conda-forge\n",
            "    types-python-dateutil-2.9.0.20240316|     pyhd8ed1ab_0          21 KB  conda-forge\n",
            "    typing-extensions-4.11.0   |       hd8ed1ab_0          10 KB  conda-forge\n",
            "    typing_extensions-4.11.0   |     pyha770c72_0          37 KB  conda-forge\n",
            "    typing_utils-0.1.0         |     pyhd8ed1ab_0          14 KB  conda-forge\n",
            "    unicodedata2-15.1.0        |  py310h2372a71_0         365 KB  conda-forge\n",
            "    uri-template-1.3.0         |     pyhd8ed1ab_0          23 KB  conda-forge\n",
            "    validators-0.28.1          |     pyhd8ed1ab_0          36 KB  conda-forge\n",
            "    wcwidth-0.2.13             |     pyhd8ed1ab_0          32 KB  conda-forge\n",
            "    webcolors-1.13             |     pyhd8ed1ab_0          18 KB  conda-forge\n",
            "    webencodings-0.5.1         |     pyhd8ed1ab_2          15 KB  conda-forge\n",
            "    websocket-client-1.8.0     |     pyhd8ed1ab_0          46 KB  conda-forge\n",
            "    widgetsnbextension-4.0.10  |     pyhd8ed1ab_0         866 KB  conda-forge\n",
            "    xmltodict-0.13.0           |     pyhd8ed1ab_0          13 KB  conda-forge\n",
            "    xorg-kbproto-1.0.7         |    h7f98852_1002          27 KB  conda-forge\n",
            "    xorg-libice-1.1.1          |       hd590300_0          57 KB  conda-forge\n",
            "    xorg-libsm-1.2.4           |       h7391055_0          27 KB  conda-forge\n",
            "    xorg-libx11-1.8.9          |       h8ee46fc_0         809 KB  conda-forge\n",
            "    xorg-libxau-1.0.11         |       hd590300_0          14 KB  conda-forge\n",
            "    xorg-libxdmcp-1.1.3        |       h7f98852_0          19 KB  conda-forge\n",
            "    xorg-libxext-1.3.4         |       h0b41bf4_2          49 KB  conda-forge\n",
            "    xorg-libxrender-0.9.11     |       hd590300_0          37 KB  conda-forge\n",
            "    xorg-libxt-1.3.0           |       hd590300_1         370 KB  conda-forge\n",
            "    xorg-renderproto-0.11.1    |    h7f98852_1002           9 KB  conda-forge\n",
            "    xorg-xextproto-7.3.0       |    h0b41bf4_1003          30 KB  conda-forge\n",
            "    xorg-xproto-7.0.31         |    h7f98852_1007          73 KB  conda-forge\n",
            "    yaml-0.2.5                 |       h7f98852_2          87 KB  conda-forge\n",
            "    zeromq-4.3.5               |       h75354e8_3         344 KB  conda-forge\n",
            "    zipp-3.17.0                |     pyhd8ed1ab_0          19 KB  conda-forge\n",
            "    zlib-1.2.13                |       hd590300_5          91 KB  conda-forge\n",
            "    zlib-ng-2.0.7              |       h0b41bf4_0          92 KB  conda-forge\n",
            "    ------------------------------------------------------------\n",
            "                                           Total:        1.11 GB\n",
            "\n",
            "The following NEW packages will be INSTALLED:\n",
            "\n",
            "  ambertools         conda-forge/linux-64::ambertools-23.6-nompi_py310hba4a467_102 \n",
            "  annotated-types    conda-forge/noarch::annotated-types-0.6.0-pyhd8ed1ab_0 \n",
            "  anyio              conda-forge/noarch::anyio-4.3.0-pyhd8ed1ab_0 \n",
            "  argon2-cffi        conda-forge/noarch::argon2-cffi-23.1.0-pyhd8ed1ab_0 \n",
            "  argon2-cffi-bindi~ conda-forge/linux-64::argon2-cffi-bindings-21.2.0-py310h2372a71_4 \n",
            "  arpack             conda-forge/linux-64::arpack-3.8.0-nompi_h0baa96a_101 \n",
            "  arrow              conda-forge/noarch::arrow-1.3.0-pyhd8ed1ab_0 \n",
            "  asttokens          conda-forge/noarch::asttokens-2.4.1-pyhd8ed1ab_0 \n",
            "  astunparse         conda-forge/noarch::astunparse-1.6.3-pyhd8ed1ab_0 \n",
            "  async-lru          conda-forge/noarch::async-lru-2.0.4-pyhd8ed1ab_0 \n",
            "  attrs              conda-forge/noarch::attrs-23.2.0-pyh71513ae_0 \n",
            "  babel              conda-forge/noarch::babel-2.14.0-pyhd8ed1ab_0 \n",
            "  beautifulsoup4     conda-forge/noarch::beautifulsoup4-4.12.3-pyha770c72_0 \n",
            "  bleach             conda-forge/noarch::bleach-6.1.0-pyhd8ed1ab_0 \n",
            "  blosc              conda-forge/linux-64::blosc-1.21.5-hc2324a3_1 \n",
            "  brotli             conda-forge/linux-64::brotli-1.1.0-hd590300_1 \n",
            "  brotli-bin         conda-forge/linux-64::brotli-bin-1.1.0-hd590300_1 \n",
            "  bson               conda-forge/noarch::bson-0.5.9-py_0 \n",
            "  c-blosc2           conda-forge/linux-64::c-blosc2-2.14.4-hb4ffafa_1 \n",
            "  cached-property    conda-forge/noarch::cached-property-1.5.2-hd8ed1ab_1 \n",
            "  cached_property    conda-forge/noarch::cached_property-1.5.2-pyha770c72_1 \n",
            "  cachetools         conda-forge/noarch::cachetools-5.3.3-pyhd8ed1ab_0 \n",
            "  cairo              conda-forge/linux-64::cairo-1.18.0-h3faef2a_0 \n",
            "  cftime             conda-forge/linux-64::cftime-1.6.3-py310h1f7b6fc_0 \n",
            "  chardet            conda-forge/linux-64::chardet-5.2.0-py310hff52083_1 \n",
            "  comm               conda-forge/noarch::comm-0.2.2-pyhd8ed1ab_0 \n",
            "  contourpy          conda-forge/linux-64::contourpy-1.2.1-py310hd41b1e2_0 \n",
            "  cudatoolkit        conda-forge/linux-64::cudatoolkit-11.8.0-h4ba93d1_13 \n",
            "  cycler             conda-forge/noarch::cycler-0.12.1-pyhd8ed1ab_0 \n",
            "  debugpy            conda-forge/linux-64::debugpy-1.8.1-py310hc6cd4ac_0 \n",
            "  decorator          conda-forge/noarch::decorator-5.1.1-pyhd8ed1ab_0 \n",
            "  defusedxml         conda-forge/noarch::defusedxml-0.7.1-pyhd8ed1ab_0 \n",
            "  entrypoints        conda-forge/noarch::entrypoints-0.4-pyhd8ed1ab_0 \n",
            "  exceptiongroup     conda-forge/noarch::exceptiongroup-1.2.0-pyhd8ed1ab_2 \n",
            "  executing          conda-forge/noarch::executing-2.0.1-pyhd8ed1ab_0 \n",
            "  expat              conda-forge/linux-64::expat-2.6.2-h59595ed_0 \n",
            "  fftw               conda-forge/linux-64::fftw-3.3.10-nompi_hc118613_108 \n",
            "  font-ttf-dejavu-s~ conda-forge/noarch::font-ttf-dejavu-sans-mono-2.37-hab24e00_0 \n",
            "  font-ttf-inconsol~ conda-forge/noarch::font-ttf-inconsolata-3.000-h77eed37_0 \n",
            "  font-ttf-source-c~ conda-forge/noarch::font-ttf-source-code-pro-2.038-h77eed37_0 \n",
            "  font-ttf-ubuntu    conda-forge/noarch::font-ttf-ubuntu-0.83-h77eed37_2 \n",
            "  fontconfig         conda-forge/linux-64::fontconfig-2.14.2-h14ed4e7_0 \n",
            "  fonts-conda-ecosy~ conda-forge/noarch::fonts-conda-ecosystem-1-0 \n",
            "  fonts-conda-forge  conda-forge/noarch::fonts-conda-forge-1-0 \n",
            "  fonttools          conda-forge/linux-64::fonttools-4.51.0-py310h2372a71_0 \n",
            "  fqdn               conda-forge/noarch::fqdn-1.5.1-pyhd8ed1ab_0 \n",
            "  freetype           conda-forge/linux-64::freetype-2.12.1-h267a509_2 \n",
            "  freetype-py        conda-forge/noarch::freetype-py-2.3.0-pyhd8ed1ab_0 \n",
            "  greenlet           conda-forge/linux-64::greenlet-3.0.3-py310hc6cd4ac_0 \n",
            "  h11                conda-forge/noarch::h11-0.14.0-pyhd8ed1ab_0 \n",
            "  h2                 conda-forge/noarch::h2-4.1.0-pyhd8ed1ab_0 \n",
            "  hdf4               conda-forge/linux-64::hdf4-4.2.15-h2a13503_7 \n",
            "  hdf5               conda-forge/linux-64::hdf5-1.14.3-nompi_h4f84152_100 \n",
            "  hpack              conda-forge/noarch::hpack-4.0.0-pyh9f0ad1d_0 \n",
            "  httpcore           conda-forge/noarch::httpcore-1.0.5-pyhd8ed1ab_0 \n",
            "  httpx              conda-forge/noarch::httpx-0.27.0-pyhd8ed1ab_0 \n",
            "  hyperframe         conda-forge/noarch::hyperframe-6.0.1-pyhd8ed1ab_0 \n",
            "  importlib-metadata conda-forge/noarch::importlib-metadata-7.1.0-pyha770c72_0 \n",
            "  importlib_metadata conda-forge/noarch::importlib_metadata-7.1.0-hd8ed1ab_0 \n",
            "  importlib_resourc~ conda-forge/noarch::importlib_resources-6.4.0-pyhd8ed1ab_0 \n",
            "  ipykernel          conda-forge/noarch::ipykernel-6.29.3-pyhd33586a_0 \n",
            "  ipython            conda-forge/noarch::ipython-8.22.2-pyh707e725_0 \n",
            "  ipywidgets         conda-forge/noarch::ipywidgets-8.1.2-pyhd8ed1ab_0 \n",
            "  isoduration        conda-forge/noarch::isoduration-20.11.0-pyhd8ed1ab_0 \n",
            "  jax                conda-forge/noarch::jax-0.4.26-pyhd8ed1ab_0 \n",
            "  jaxlib             conda-forge/linux-64::jaxlib-0.4.23-cpu_py310h8d585fe_0 \n",
            "  jedi               conda-forge/noarch::jedi-0.19.1-pyhd8ed1ab_0 \n",
            "  jinja2             conda-forge/noarch::jinja2-3.1.3-pyhd8ed1ab_0 \n",
            "  joblib             conda-forge/noarch::joblib-1.4.2-pyhd8ed1ab_0 \n",
            "  json5              conda-forge/noarch::json5-0.9.25-pyhd8ed1ab_0 \n",
            "  jsonschema         conda-forge/noarch::jsonschema-4.22.0-pyhd8ed1ab_0 \n",
            "  jsonschema-specif~ conda-forge/noarch::jsonschema-specifications-2023.12.1-pyhd8ed1ab_0 \n",
            "  jsonschema-with-f~ conda-forge/noarch::jsonschema-with-format-nongpl-4.22.0-pyhd8ed1ab_0 \n",
            "  jupyter-lsp        conda-forge/noarch::jupyter-lsp-2.2.5-pyhd8ed1ab_0 \n",
            "  jupyter_client     conda-forge/noarch::jupyter_client-8.6.1-pyhd8ed1ab_0 \n",
            "  jupyter_core       conda-forge/linux-64::jupyter_core-5.7.2-py310hff52083_0 \n",
            "  jupyter_events     conda-forge/noarch::jupyter_events-0.10.0-pyhd8ed1ab_0 \n",
            "  jupyter_server     conda-forge/noarch::jupyter_server-2.14.0-pyhd8ed1ab_0 \n",
            "  jupyter_server_te~ conda-forge/noarch::jupyter_server_terminals-0.5.3-pyhd8ed1ab_0 \n",
            "  jupyterlab         conda-forge/noarch::jupyterlab-4.1.8-pyhd8ed1ab_0 \n",
            "  jupyterlab_pygmen~ conda-forge/noarch::jupyterlab_pygments-0.3.0-pyhd8ed1ab_1 \n",
            "  jupyterlab_server  conda-forge/noarch::jupyterlab_server-2.27.1-pyhd8ed1ab_0 \n",
            "  jupyterlab_widgets conda-forge/noarch::jupyterlab_widgets-3.0.10-pyhd8ed1ab_0 \n",
            "  kiwisolver         conda-forge/linux-64::kiwisolver-1.4.5-py310hd41b1e2_1 \n",
            "  lcms2              conda-forge/linux-64::lcms2-2.16-hb7c19ff_0 \n",
            "  lerc               conda-forge/linux-64::lerc-4.0.0-h27087fc_0 \n",
            "  libabseil          conda-forge/linux-64::libabseil-20230802.1-cxx17_h59595ed_0 \n",
            "  libaec             conda-forge/linux-64::libaec-1.1.3-h59595ed_0 \n",
            "  libblas            conda-forge/linux-64::libblas-3.9.0-22_linux64_openblas \n",
            "  libboost           conda-forge/linux-64::libboost-1.84.0-h8013b2b_2 \n",
            "  libboost-python    conda-forge/linux-64::libboost-python-1.84.0-py310hcb52e73_2 \n",
            "  libbrotlicommon    conda-forge/linux-64::libbrotlicommon-1.1.0-hd590300_1 \n",
            "  libbrotlidec       conda-forge/linux-64::libbrotlidec-1.1.0-hd590300_1 \n",
            "  libbrotlienc       conda-forge/linux-64::libbrotlienc-1.1.0-hd590300_1 \n",
            "  libcblas           conda-forge/linux-64::libcblas-3.9.0-22_linux64_openblas \n",
            "  libdeflate         conda-forge/linux-64::libdeflate-1.20-hd590300_0 \n",
            "  libexpat           conda-forge/linux-64::libexpat-2.6.2-h59595ed_0 \n",
            "  libgfortran-ng     conda-forge/linux-64::libgfortran-ng-13.2.0-h69a702a_6 \n",
            "  libgfortran5       conda-forge/linux-64::libgfortran5-13.2.0-h43f5ff8_6 \n",
            "  libglib            conda-forge/linux-64::libglib-2.80.0-hf2295e7_6 \n",
            "  libgrpc            conda-forge/linux-64::libgrpc-1.59.3-hd6c4280_0 \n",
            "  libjpeg-turbo      conda-forge/linux-64::libjpeg-turbo-3.0.0-hd590300_1 \n",
            "  liblapack          conda-forge/linux-64::liblapack-3.9.0-22_linux64_openblas \n",
            "  libllvm14          conda-forge/linux-64::libllvm14-14.0.6-hcd5def8_4 \n",
            "  libnetcdf          conda-forge/linux-64::libnetcdf-4.9.2-nompi_h9612171_113 \n",
            "  libopenblas        conda-forge/linux-64::libopenblas-0.3.27-pthreads_h413a1c8_0 \n",
            "  libpng             conda-forge/linux-64::libpng-1.6.43-h2797004_0 \n",
            "  libprotobuf        conda-forge/linux-64::libprotobuf-4.24.4-hf27288f_0 \n",
            "  libre2-11          conda-forge/linux-64::libre2-11-2023.09.01-h7a70373_1 \n",
            "  libsodium          conda-forge/linux-64::libsodium-1.0.18-h36c2ea0_1 \n",
            "  libtiff            conda-forge/linux-64::libtiff-4.6.0-h1dd3fc0_3 \n",
            "  libwebp-base       conda-forge/linux-64::libwebp-base-1.4.0-hd590300_0 \n",
            "  libxcb             conda-forge/linux-64::libxcb-1.15-h0b41bf4_0 \n",
            "  libxcrypt          conda-forge/linux-64::libxcrypt-4.4.36-hd590300_1 \n",
            "  libxslt            conda-forge/linux-64::libxslt-1.1.39-h76b75d6_0 \n",
            "  libzip             conda-forge/linux-64::libzip-1.10.1-h2629f0a_3 \n",
            "  llvmlite           conda-forge/linux-64::llvmlite-0.42.0-py310h1b8f574_1 \n",
            "  lxml               conda-forge/linux-64::lxml-5.1.0-py310hcfd0673_0 \n",
            "  markupsafe         conda-forge/linux-64::markupsafe-2.1.5-py310h2372a71_0 \n",
            "  matplotlib-base    conda-forge/linux-64::matplotlib-base-3.8.4-py310h62c0568_0 \n",
            "  matplotlib-inline  conda-forge/noarch::matplotlib-inline-0.1.7-pyhd8ed1ab_0 \n",
            "  mda-xdrlib         conda-forge/noarch::mda-xdrlib-0.2.0-pyhd8ed1ab_0 \n",
            "  mdtraj             conda-forge/linux-64::mdtraj-1.9.9-py310h523e8d7_1 \n",
            "  mistune            conda-forge/noarch::mistune-3.0.2-pyhd8ed1ab_0 \n",
            "  ml_dtypes          conda-forge/linux-64::ml_dtypes-0.4.0-py310hcc13569_0 \n",
            "  mpiplus            conda-forge/noarch::mpiplus-v0.0.2-pyhd8ed1ab_0 \n",
            "  munkres            conda-forge/noarch::munkres-1.1.4-pyh9f0ad1d_0 \n",
            "  nbclient           conda-forge/noarch::nbclient-0.10.0-pyhd8ed1ab_0 \n",
            "  nbconvert-core     conda-forge/noarch::nbconvert-core-7.16.4-pyhd8ed1ab_0 \n",
            "  nbformat           conda-forge/noarch::nbformat-5.10.4-pyhd8ed1ab_0 \n",
            "  nest-asyncio       conda-forge/noarch::nest-asyncio-1.6.0-pyhd8ed1ab_0 \n",
            "  netcdf-fortran     conda-forge/linux-64::netcdf-fortran-4.6.1-nompi_hacb5139_103 \n",
            "  netcdf4            conda-forge/linux-64::netcdf4-1.6.5-nompi_py310hba70d50_100 \n",
            "  networkx           conda-forge/noarch::networkx-3.3-pyhd8ed1ab_1 \n",
            "  nomkl              conda-forge/noarch::nomkl-1.0-h5ca1d4c_0 \n",
            "  nose               conda-forge/noarch::nose-1.3.7-py_1006 \n",
            "  notebook           conda-forge/noarch::notebook-7.1.3-pyhd8ed1ab_0 \n",
            "  notebook-shim      conda-forge/noarch::notebook-shim-0.2.4-pyhd8ed1ab_0 \n",
            "  numba              conda-forge/linux-64::numba-0.59.1-py310h7dc5dd1_0 \n",
            "  numexpr            conda-forge/linux-64::numexpr-2.9.0-py310hc2d3c2e_100 \n",
            "  numpy              conda-forge/linux-64::numpy-1.26.4-py310hb13e2d6_0 \n",
            "  ocl-icd            conda-forge/linux-64::ocl-icd-2.3.2-hd590300_1 \n",
            "  ocl-icd-system     conda-forge/linux-64::ocl-icd-system-1.0.0-1 \n",
            "  openff-amber-ff-p~ conda-forge/noarch::openff-amber-ff-ports-0.0.4-pyhca7485f_0 \n",
            "  openff-forcefields conda-forge/noarch::openff-forcefields-2024.04.0-pyhca7485f_0 \n",
            "  openff-interchange conda-forge/noarch::openff-interchange-0.3.26-pyhd8ed1ab_0 \n",
            "  openff-interchang~ conda-forge/noarch::openff-interchange-base-0.3.26-pyhd8ed1ab_0 \n",
            "  openff-models      conda-forge/noarch::openff-models-0.1.2-pyhca7485f_0 \n",
            "  openff-toolkit     conda-forge/noarch::openff-toolkit-0.16.0-pyhd8ed1ab_0 \n",
            "  openff-toolkit-ba~ conda-forge/noarch::openff-toolkit-base-0.16.0-pyhd8ed1ab_0 \n",
            "  openff-units       conda-forge/noarch::openff-units-0.2.2-pyhca7485f_0 \n",
            "  openff-utilities   conda-forge/noarch::openff-utilities-0.1.12-pyhd8ed1ab_0 \n",
            "  openjpeg           conda-forge/linux-64::openjpeg-2.5.2-h488ebb8_0 \n",
            "  openmm             conda-forge/linux-64::openmm-8.1.1-py310h43b6314_1 \n",
            "  openmmforcefields  conda-forge/noarch::openmmforcefields-0.13.0-pyhd8ed1ab_0 \n",
            "  openmmtools        conda-forge/noarch::openmmtools-0.23.1-pyhd8ed1ab_0 \n",
            "  opt-einsum         conda-forge/noarch::opt-einsum-3.3.0-hd8ed1ab_2 \n",
            "  opt_einsum         conda-forge/noarch::opt_einsum-3.3.0-pyhc1e730c_2 \n",
            "  overrides          conda-forge/noarch::overrides-7.7.0-pyhd8ed1ab_0 \n",
            "  pandas             conda-forge/linux-64::pandas-2.2.2-py310hcc13569_0 \n",
            "  pandocfilters      conda-forge/noarch::pandocfilters-1.5.0-pyhd8ed1ab_0 \n",
            "  panedr             conda-forge/noarch::panedr-0.8.0-pyhd8ed1ab_0 \n",
            "  parmed             conda-forge/linux-64::parmed-4.2.2-py310hc6cd4ac_1 \n",
            "  parso              conda-forge/noarch::parso-0.8.4-pyhd8ed1ab_0 \n",
            "  pcre2              conda-forge/linux-64::pcre2-10.43-hcad00b1_0 \n",
            "  pdbfixer           conda-forge/noarch::pdbfixer-1.9-pyh1a96a4e_0 \n",
            "  perl               conda-forge/linux-64::perl-5.32.1-7_hd590300_perl5 \n",
            "  pexpect            conda-forge/noarch::pexpect-4.9.0-pyhd8ed1ab_0 \n",
            "  pickleshare        conda-forge/noarch::pickleshare-0.7.5-py_1003 \n",
            "  pillow             conda-forge/linux-64::pillow-10.3.0-py310hf73ecf8_0 \n",
            "  pint               conda-forge/noarch::pint-0.23-pyhd8ed1ab_0 \n",
            "  pixman             conda-forge/linux-64::pixman-0.43.2-h59595ed_0 \n",
            "  pkgutil-resolve-n~ conda-forge/noarch::pkgutil-resolve-name-1.3.10-pyhd8ed1ab_1 \n",
            "  prometheus_client  conda-forge/noarch::prometheus_client-0.20.0-pyhd8ed1ab_0 \n",
            "  prompt-toolkit     conda-forge/noarch::prompt-toolkit-3.0.42-pyha770c72_0 \n",
            "  psutil             conda-forge/linux-64::psutil-5.9.8-py310h2372a71_0 \n",
            "  pthread-stubs      conda-forge/linux-64::pthread-stubs-0.4-h36c2ea0_1001 \n",
            "  ptyprocess         conda-forge/noarch::ptyprocess-0.7.0-pyhd3deb0d_0 \n",
            "  pure_eval          conda-forge/noarch::pure_eval-0.2.2-pyhd8ed1ab_0 \n",
            "  py-cpuinfo         conda-forge/noarch::py-cpuinfo-9.0.0-pyhd8ed1ab_0 \n",
            "  pycairo            conda-forge/linux-64::pycairo-1.26.0-py310hda9f760_0 \n",
            "  pydantic           conda-forge/noarch::pydantic-2.7.1-pyhd8ed1ab_0 \n",
            "  pydantic-core      conda-forge/linux-64::pydantic-core-2.18.2-py310he421c4c_0 \n",
            "  pyedr              conda-forge/noarch::pyedr-0.8.0-pyhd8ed1ab_0 \n",
            "  pygments           conda-forge/noarch::pygments-2.18.0-pyhd8ed1ab_0 \n",
            "  pymbar             conda-forge/linux-64::pymbar-4.0.3-hff52083_1 \n",
            "  pymbar-core        conda-forge/linux-64::pymbar-core-4.0.3-py310h1f7b6fc_1 \n",
            "  pyparsing          conda-forge/noarch::pyparsing-3.1.2-pyhd8ed1ab_0 \n",
            "  pytables           conda-forge/linux-64::pytables-3.9.2-py310hd76cd5d_2 \n",
            "  python-constraint  conda-forge/noarch::python-constraint-1.4.0-py_0 \n",
            "  python-dateutil    conda-forge/noarch::python-dateutil-2.9.0-pyhd8ed1ab_0 \n",
            "  python-fastjsonsc~ conda-forge/noarch::python-fastjsonschema-2.19.1-pyhd8ed1ab_0 \n",
            "  python-json-logger conda-forge/noarch::python-json-logger-2.0.7-pyhd8ed1ab_0 \n",
            "  python-tzdata      conda-forge/noarch::python-tzdata-2024.1-pyhd8ed1ab_0 \n",
            "  pytz               conda-forge/noarch::pytz-2024.1-pyhd8ed1ab_0 \n",
            "  pyyaml             conda-forge/linux-64::pyyaml-6.0.1-py310h2372a71_1 \n",
            "  pyzmq              conda-forge/linux-64::pyzmq-26.0.2-py310h6883aea_0 \n",
            "  rdkit              conda-forge/linux-64::rdkit-2024.03.2-py310h6f17f40_0 \n",
            "  re2                conda-forge/linux-64::re2-2023.09.01-h7f4b329_1 \n",
            "  referencing        conda-forge/noarch::referencing-0.35.1-pyhd8ed1ab_0 \n",
            "  reportlab          conda-forge/linux-64::reportlab-4.1.0-py310h2372a71_0 \n",
            "  rfc3339-validator  conda-forge/noarch::rfc3339-validator-0.1.4-pyhd8ed1ab_0 \n",
            "  rfc3986-validator  conda-forge/noarch::rfc3986-validator-0.1.1-pyh9f0ad1d_0 \n",
            "  rlpycairo          conda-forge/noarch::rlpycairo-0.2.0-pyhd8ed1ab_0 \n",
            "  rpds-py            conda-forge/linux-64::rpds-py-0.18.0-py310hcb5633a_0 \n",
            "  scipy              conda-forge/linux-64::scipy-1.13.0-py310h93e2701_1 \n",
            "  send2trash         conda-forge/noarch::send2trash-1.8.3-pyh0d859eb_0 \n",
            "  six                conda-forge/noarch::six-1.16.0-pyh6c4a22f_0 \n",
            "  smirnoff99frosst   conda-forge/noarch::smirnoff99frosst-1.1.0-pyh44b312d_0 \n",
            "  snappy             conda-forge/linux-64::snappy-1.2.0-hdb0a2a9_1 \n",
            "  sniffio            conda-forge/noarch::sniffio-1.3.1-pyhd8ed1ab_0 \n",
            "  soupsieve          conda-forge/noarch::soupsieve-2.5-pyhd8ed1ab_1 \n",
            "  sqlalchemy         conda-forge/linux-64::sqlalchemy-2.0.30-py310hc51659f_0 \n",
            "  stack_data         conda-forge/noarch::stack_data-0.6.2-pyhd8ed1ab_0 \n",
            "  terminado          conda-forge/noarch::terminado-0.18.1-pyh0d859eb_0 \n",
            "  tinycss2           conda-forge/noarch::tinycss2-1.3.0-pyhd8ed1ab_0 \n",
            "  tinydb             conda-forge/noarch::tinydb-4.8.0-pyhd8ed1ab_0 \n",
            "  tomli              conda-forge/noarch::tomli-2.0.1-pyhd8ed1ab_0 \n",
            "  tornado            conda-forge/linux-64::tornado-6.4-py310h2372a71_0 \n",
            "  traitlets          conda-forge/noarch::traitlets-5.14.3-pyhd8ed1ab_0 \n",
            "  types-python-date~ conda-forge/noarch::types-python-dateutil-2.9.0.20240316-pyhd8ed1ab_0 \n",
            "  typing-extensions  conda-forge/noarch::typing-extensions-4.11.0-hd8ed1ab_0 \n",
            "  typing_extensions  conda-forge/noarch::typing_extensions-4.11.0-pyha770c72_0 \n",
            "  typing_utils       conda-forge/noarch::typing_utils-0.1.0-pyhd8ed1ab_0 \n",
            "  unicodedata2       conda-forge/linux-64::unicodedata2-15.1.0-py310h2372a71_0 \n",
            "  uri-template       conda-forge/noarch::uri-template-1.3.0-pyhd8ed1ab_0 \n",
            "  validators         conda-forge/noarch::validators-0.28.1-pyhd8ed1ab_0 \n",
            "  wcwidth            conda-forge/noarch::wcwidth-0.2.13-pyhd8ed1ab_0 \n",
            "  webcolors          conda-forge/noarch::webcolors-1.13-pyhd8ed1ab_0 \n",
            "  webencodings       conda-forge/noarch::webencodings-0.5.1-pyhd8ed1ab_2 \n",
            "  websocket-client   conda-forge/noarch::websocket-client-1.8.0-pyhd8ed1ab_0 \n",
            "  widgetsnbextension conda-forge/noarch::widgetsnbextension-4.0.10-pyhd8ed1ab_0 \n",
            "  xmltodict          conda-forge/noarch::xmltodict-0.13.0-pyhd8ed1ab_0 \n",
            "  xorg-kbproto       conda-forge/linux-64::xorg-kbproto-1.0.7-h7f98852_1002 \n",
            "  xorg-libice        conda-forge/linux-64::xorg-libice-1.1.1-hd590300_0 \n",
            "  xorg-libsm         conda-forge/linux-64::xorg-libsm-1.2.4-h7391055_0 \n",
            "  xorg-libx11        conda-forge/linux-64::xorg-libx11-1.8.9-h8ee46fc_0 \n",
            "  xorg-libxau        conda-forge/linux-64::xorg-libxau-1.0.11-hd590300_0 \n",
            "  xorg-libxdmcp      conda-forge/linux-64::xorg-libxdmcp-1.1.3-h7f98852_0 \n",
            "  xorg-libxext       conda-forge/linux-64::xorg-libxext-1.3.4-h0b41bf4_2 \n",
            "  xorg-libxrender    conda-forge/linux-64::xorg-libxrender-0.9.11-hd590300_0 \n",
            "  xorg-libxt         conda-forge/linux-64::xorg-libxt-1.3.0-hd590300_1 \n",
            "  xorg-renderproto   conda-forge/linux-64::xorg-renderproto-0.11.1-h7f98852_1002 \n",
            "  xorg-xextproto     conda-forge/linux-64::xorg-xextproto-7.3.0-h0b41bf4_1003 \n",
            "  xorg-xproto        conda-forge/linux-64::xorg-xproto-7.0.31-h7f98852_1007 \n",
            "  yaml               conda-forge/linux-64::yaml-0.2.5-h7f98852_2 \n",
            "  zeromq             conda-forge/linux-64::zeromq-4.3.5-h75354e8_3 \n",
            "  zipp               conda-forge/noarch::zipp-3.17.0-pyhd8ed1ab_0 \n",
            "  zlib               conda-forge/linux-64::zlib-1.2.13-hd590300_5 \n",
            "  zlib-ng            conda-forge/linux-64::zlib-ng-2.0.7-h0b41bf4_0 \n",
            "\n",
            "The following packages will be UPDATED:\n",
            "\n",
            "  ca-certificates                     2023.11.17-hbcca054_0 --> 2024.2.2-hbcca054_0 \n",
            "  certifi                           2023.11.17-pyhd8ed1ab_0 --> 2024.2.2-pyhd8ed1ab_0 \n",
            "  openssl                                  3.2.0-hd590300_1 --> 3.3.0-hd590300_0 \n",
            "\n",
            "\n",
            "Preparing transaction: ...working... done\n",
            "Verifying transaction: ...working... done\n",
            "Executing transaction: ...working... By downloading and using the CUDA Toolkit conda packages, you accept the terms and conditions of the CUDA End User License Agreement (EULA): https://docs.nvidia.com/cuda/eula/index.html\n",
            "\n",
            "done\n"
          ]
        }
      ]
    },
    {
      "cell_type": "markdown",
      "metadata": {
        "id": "CUCYRv29iTZL"
      },
      "source": [
        "# Generic installation instructions"
      ]
    },
    {
      "cell_type": "code",
      "execution_count": 5,
      "metadata": {
        "id": "6tn-o7_HPTPH",
        "colab": {
          "base_uri": "https://localhost:8080/",
          "height": 36
        },
        "outputId": "31b3c20c-95b7-4969-9c8c-8b9ea70aed97"
      },
      "outputs": [
        {
          "output_type": "execute_result",
          "data": {
            "text/plain": [
              "'3.10.12 (main, Nov 20 2023, 15:14:05) [GCC 11.4.0]'"
            ],
            "application/vnd.google.colaboratory.intrinsic+json": {
              "type": "string"
            }
          },
          "metadata": {},
          "execution_count": 5
        }
      ],
      "source": [
        "# Verify Python version\n",
        "import sys\n",
        "sys.version"
      ]
    },
    {
      "cell_type": "code",
      "execution_count": 6,
      "metadata": {
        "id": "byiLnbrjNNKD",
        "colab": {
          "base_uri": "https://localhost:8080/"
        },
        "outputId": "c93b5a95-031f-4693-b1cf-ff01e43bb610"
      },
      "outputs": [
        {
          "output_type": "stream",
          "name": "stdout",
          "text": [
            "/bin/bash: line 1: nvidia-smi: command not found\n"
          ]
        }
      ],
      "source": [
        "# Verify GPU availability and type. If you get an error, check that\n",
        "# \"Runtime / Runtime type / GPU\" is selected.\n",
        "!nvidia-smi"
      ]
    },
    {
      "cell_type": "markdown",
      "source": [
        "# Tests"
      ],
      "metadata": {
        "id": "WsHkdOZ8ELEE"
      }
    },
    {
      "cell_type": "code",
      "execution_count": 7,
      "metadata": {
        "id": "qUDOptzpMjaX",
        "colab": {
          "base_uri": "https://localhost:8080/"
        },
        "outputId": "2d78863c-499e-4812-c8f2-e6379229a047"
      },
      "outputs": [
        {
          "output_type": "stream",
          "name": "stdout",
          "text": [
            "\n",
            "OpenMM Version: 8.1.1\n",
            "Git Revision: ec797acabe5de4ce9f56c92d349baa889f4b0821\n",
            "\n",
            "There are 2 Platforms available:\n",
            "\n",
            "1 Reference - Successfully computed forces\n",
            "2 CPU - Successfully computed forces\n",
            "\n",
            "Median difference in forces between platforms:\n",
            "\n",
            "Reference vs. CPU: 6.30273e-06\n",
            "\n",
            "All differences are within tolerance.\n"
          ]
        }
      ],
      "source": [
        "# A quick test\n",
        "import openmm.testInstallation\n",
        "openmm.testInstallation.main()"
      ]
    },
    {
      "cell_type": "code",
      "source": [
        "#condacolab does not set CONDA_PREFIX\n",
        "import os\n",
        "pfx=os.environ.get(\"CONDA_PREFIX\",\"/usr/local\")\n",
        "%env PFX=$pfx"
      ],
      "metadata": {
        "colab": {
          "base_uri": "https://localhost:8080/"
        },
        "id": "u3onq2SesRXU",
        "outputId": "3e00288c-c4b2-4ec1-e286-169d7d0f20b2"
      },
      "execution_count": 8,
      "outputs": [
        {
          "output_type": "stream",
          "name": "stdout",
          "text": [
            "env: PFX=/usr/local\n"
          ]
        }
      ]
    },
    {
      "cell_type": "code",
      "execution_count": 9,
      "metadata": {
        "id": "QnTQEtH5wYd0",
        "colab": {
          "base_uri": "https://localhost:8080/"
        },
        "outputId": "31d161fc-d27d-4623-bde7-ef5c0d4cafb9"
      },
      "outputs": [
        {
          "output_type": "stream",
          "name": "stdout",
          "text": [
            "usage: benchmark.py [-h] [--platform {CPU,Reference}] [--test TEST] [--ensemble ENSEMBLE]\n",
            "                    [--pme-cutoff PME_CUTOFF] [--seconds SECONDS]\n",
            "                    [--polarization {direct,extrapolated,mutual}] [--mutual-epsilon EPSILON]\n",
            "                    [--bond-constraints BOND_CONSTRAINTS] [--device DEVICE]\n",
            "                    [--opencl-platform OPENCL_PLATFORM] [--precision PRECISION]\n",
            "                    [--style {simple,table}] [--outfile OUTFILE] [--serialize SERIALIZE]\n",
            "                    [--verbose]\n",
            "benchmark.py: error: No platform specified\n"
          ]
        }
      ],
      "source": [
        "!(cd $PFX/share/openmm/examples; python benchmark.py)"
      ]
    },
    {
      "cell_type": "code",
      "execution_count": 10,
      "metadata": {
        "id": "gYTdYvChOZId",
        "colab": {
          "base_uri": "https://localhost:8080/"
        },
        "outputId": "c926f631-c3b0-4955-a99e-6719c8a31061"
      },
      "outputs": [
        {
          "output_type": "stream",
          "name": "stdout",
          "text": [
            "usage: benchmark.py [-h] [--platform {CPU,Reference}] [--test TEST] [--ensemble ENSEMBLE]\n",
            "                    [--pme-cutoff PME_CUTOFF] [--seconds SECONDS]\n",
            "                    [--polarization {direct,extrapolated,mutual}] [--mutual-epsilon EPSILON]\n",
            "                    [--bond-constraints BOND_CONSTRAINTS] [--device DEVICE]\n",
            "                    [--opencl-platform OPENCL_PLATFORM] [--precision PRECISION]\n",
            "                    [--style {simple,table}] [--outfile OUTFILE] [--serialize SERIALIZE]\n",
            "                    [--verbose]\n",
            "benchmark.py: error: argument --platform: invalid choice: 'CUDA' (choose from 'CPU', 'Reference')\n"
          ]
        }
      ],
      "source": [
        "# A more realistic benchmark. Note the \"ns_per_day\" figure\n",
        "!(cd $PFX/share/openmm/examples; python benchmark.py --platform CUDA --test pme --seconds 5  --precision mixed)"
      ]
    },
    {
      "cell_type": "code",
      "execution_count": 11,
      "metadata": {
        "id": "ohNwcXN1v0SO",
        "colab": {
          "base_uri": "https://localhost:8080/"
        },
        "outputId": "1119e15e-4225-467b-f20e-f01912862588"
      },
      "outputs": [
        {
          "output_type": "stream",
          "name": "stdout",
          "text": [
            "/bin/sh: 1: nvidia-smi: not found\n",
            "hostname: 99aa13529bf4\n",
            "timestamp: 2024-05-06T11:54:56.004323\n",
            "openmm_version: 8.1.1.dev-ec797ac\n",
            "cpuinfo: Intel(R) Xeon(R) CPU @ 2.20GHz\n",
            "cpuarch: x86_64\n",
            "system: Linux\n",
            "test: pme\n",
            "constraints: HBonds\n",
            "hydrogen_mass: 1.5\n",
            "cutoff: 0.9\n",
            "ensemble: NVT\n",
            "precision: mixed\n",
            "timestep_in_fs: 4.0\n",
            "platform: CPU\n",
            "platform_properties: {'Threads': '2', 'DeterministicForces': 'false'}\n",
            "steps: 20\n",
            "elapsed_time: 4.807677\n",
            "ns_per_day: 1.437700577638639\n",
            "\n",
            "usage: benchmark.py [-h] [--platform {CPU,Reference}] [--test TEST] [--ensemble ENSEMBLE]\n",
            "                    [--pme-cutoff PME_CUTOFF] [--seconds SECONDS]\n",
            "                    [--polarization {direct,extrapolated,mutual}] [--mutual-epsilon EPSILON]\n",
            "                    [--bond-constraints BOND_CONSTRAINTS] [--device DEVICE]\n",
            "                    [--opencl-platform OPENCL_PLATFORM] [--precision PRECISION]\n",
            "                    [--style {simple,table}] [--outfile OUTFILE] [--serialize SERIALIZE]\n",
            "                    [--verbose]\n",
            "benchmark.py: error: argument --platform: invalid choice: 'OpenCL' (choose from 'CPU', 'Reference')\n"
          ]
        }
      ],
      "source": [
        "# CUDA (NVIDIA GPU) is the fastest platform. You can test the others with...\n",
        "%env OPENMM_CPU_THREADS 2\n",
        "!(cd $PFX/share/openmm/examples; python benchmark.py --platform CPU --test pme --seconds 2  --precision mixed)"
      ]
    },
    {
      "cell_type": "code",
      "source": [
        "!(cd $PFX/share/openmm/examples; python benchmark.py --platform OpenCL --test pme --seconds 2  --precision mixed)"
      ],
      "metadata": {
        "id": "jyw-phMMv11S"
      },
      "execution_count": null,
      "outputs": []
    },
    {
      "cell_type": "markdown",
      "source": [
        "# Here begins the simulations tutorial proper"
      ],
      "metadata": {
        "id": "NCHio6weEOp7"
      }
    },
    {
      "cell_type": "code",
      "source": [
        "from openmm.app import *\n",
        "from openmm import *\n",
        "from openmm.unit import *\n",
        "from pdbfixer import *\n",
        "from sys import stdout"
      ],
      "metadata": {
        "id": "7ckdedq72N6P"
      },
      "execution_count": 12,
      "outputs": []
    },
    {
      "cell_type": "markdown",
      "source": [
        "## Download, fix missing atoms, solvate\n",
        "\n",
        "Can also be done on the command line with the `pdbfixer` executable."
      ],
      "metadata": {
        "id": "7zp_OI_B37Hh"
      }
    },
    {
      "cell_type": "code",
      "source": [
        "# Retrieve the structure from the RCSB\n",
        "fixer = PDBFixer(pdbid=\"6H1F\")\n",
        "\n",
        "# Add missing (unresolved) residues. We don't want to model anything.\n",
        "fixer.findMissingResidues()\n",
        "fixer.missingResidues = {}\n",
        "# fixer.addMissingResidues()\n",
        "\n",
        "# Add missing (unresolved) atoms\n",
        "fixer.findMissingAtoms()\n",
        "fixer.addMissingAtoms()\n",
        "\n",
        "# Protonate (roughly) at chosen pH\n",
        "fixer.addMissingHydrogens(pH=7.0)\n",
        "\n",
        "# Explicit solvent: 10 nm^3 box\n",
        "fixer.addSolvent(boxSize=10 * Vec3(1, 1, 1))\n",
        "\n",
        "# Save the file so it can be inspected\n",
        "PDBFile.writeFile(fixer.topology, fixer.positions, open(\"6H1F-fixed.pdb\", \"w\"))"
      ],
      "metadata": {
        "id": "ZwU6a4D22VZ9"
      },
      "execution_count": 13,
      "outputs": []
    },
    {
      "cell_type": "markdown",
      "source": [
        "## Modeling\n",
        "\n",
        "Modelling step. Sometimes unnecessary. Here it is\n",
        "needed to remove an \"SCN\" (THIOCYANATE ION) residue.\n"
      ],
      "metadata": {
        "id": "cO8yyLTf3-tt"
      }
    },
    {
      "cell_type": "code",
      "source": [
        "# There is an \"SCN\" residue to remove\n",
        "modeller = Modeller(fixer.topology, fixer.positions)\n",
        "\n",
        "res_SCN = [r for r in modeller.topology.residues() if r.name == \"SCN\"]\n",
        "modeller.delete(res_SCN)\n",
        "\n",
        "PDBFile.writeFile(\n",
        "    modeller.topology, modeller.positions, open(\"6H1F-modelled.pdb\", \"w\"), keepIds=True\n",
        ")\n"
      ],
      "metadata": {
        "id": "-Rhz1J9G2VcA"
      },
      "execution_count": 14,
      "outputs": []
    },
    {
      "cell_type": "markdown",
      "source": [
        "## Create integration-related objects"
      ],
      "metadata": {
        "id": "HpYDYTSw4K44"
      }
    },
    {
      "cell_type": "code",
      "source": [
        "# The FF object holds the parameters\n",
        "forcefield = ForceField(\"amber14-all.xml\", \"amber14/tip3pfb.xml\")"
      ],
      "metadata": {
        "id": "JdK5qN5629Qn"
      },
      "execution_count": 15,
      "outputs": []
    },
    {
      "cell_type": "code",
      "source": [
        "# This specifies the system to be simulated.\n",
        "system = forcefield.createSystem(\n",
        "    modeller.topology,\n",
        "    nonbondedMethod=PME,\n",
        "    nonbondedCutoff=1 * nanometer,\n",
        "    constraints=HBonds,\n",
        ")"
      ],
      "metadata": {
        "id": "o27ZyqcM2_ME"
      },
      "execution_count": 16,
      "outputs": []
    },
    {
      "cell_type": "code",
      "source": [
        "# Specify the integrator: temperature, relaxation time, timestep (important)\n",
        "integrator = LangevinMiddleIntegrator(300 * kelvin, 1 / picosecond, 0.004 * picoseconds)"
      ],
      "metadata": {
        "id": "NOIjKD6D2_OE"
      },
      "execution_count": 17,
      "outputs": []
    },
    {
      "cell_type": "code",
      "source": [
        "# The barostat is added to the system so that density is controlled\n",
        "# in addition to temperature.\n",
        "\n",
        "# Pressure, Temperature (only used for calculation),\n",
        "# Frequency (how frequently the system should update the box size)\n",
        "barostat = MonteCarloBarostat(1.0 * atmosphere, 300.0 * kelvin, 25)\n",
        "\n",
        "system.addForce(barostat)\n"
      ],
      "metadata": {
        "id": "H3LZto6H2_QL",
        "colab": {
          "base_uri": "https://localhost:8080/"
        },
        "outputId": "92908107-6102-45d9-86fa-2687999ca986"
      },
      "execution_count": 18,
      "outputs": [
        {
          "output_type": "execute_result",
          "data": {
            "text/plain": [
              "5"
            ]
          },
          "metadata": {},
          "execution_count": 18
        }
      ]
    },
    {
      "cell_type": "code",
      "source": [
        "# Combines the molecular topology, system, and integrator\n",
        "# to begin a new simulation.\n",
        "simulation = Simulation(modeller.topology, system, integrator)\n",
        "simulation.context.setPositions(modeller.positions)"
      ],
      "metadata": {
        "id": "zLftrdY42_SR"
      },
      "execution_count": 19,
      "outputs": []
    },
    {
      "cell_type": "markdown",
      "source": [
        "## Minimize energy"
      ],
      "metadata": {
        "id": "E11YrRs64O2x"
      }
    },
    {
      "cell_type": "code",
      "source": [
        "# Perform local energy minimization\n",
        "print(\"Minimizing energy...\")\n",
        "simulation.minimizeEnergy(maxIterations=500)\n",
        "\n",
        "\n",
        "# Write the minimized coordinates (for checking)\n",
        "PDBFile.writeFile(\n",
        "    simulation.topology,\n",
        "    simulation.context.getState(getPositions=True).getPositions(),\n",
        "    open(\"6H1F-minimized.pdb\", \"w\"),\n",
        "    keepIds=True,\n",
        ")"
      ],
      "metadata": {
        "id": "rus1eBN93nQp",
        "colab": {
          "base_uri": "https://localhost:8080/"
        },
        "outputId": "b161847f-85bf-4c51-bfc4-be591c2c389f"
      },
      "execution_count": 20,
      "outputs": [
        {
          "output_type": "stream",
          "name": "stdout",
          "text": [
            "Minimizing energy...\n"
          ]
        }
      ]
    },
    {
      "cell_type": "markdown",
      "source": [
        "## Integrate"
      ],
      "metadata": {
        "id": "ytJI6fvR4RC4"
      }
    },
    {
      "cell_type": "code",
      "source": [
        "Nsteps = 5000"
      ],
      "metadata": {
        "id": "CBZ9j6Eq4WmF"
      },
      "execution_count": 21,
      "outputs": []
    },
    {
      "cell_type": "code",
      "source": [
        "# When the simulation runs, it will write the trajectory to a file called \"output.pdb\"\n",
        "simulation.reporters.append(\n",
        "    DCDReporter(\"output.dcd\", reportInterval=1000, enforcePeriodicBox=True)\n",
        ")\n"
      ],
      "metadata": {
        "id": "D0_zmX7q3naR"
      },
      "execution_count": 22,
      "outputs": []
    },
    {
      "cell_type": "code",
      "source": [
        "# Also report infomation to the screen as the simulation runs\n",
        "simulation.reporters.append(\n",
        "    StateDataReporter(\n",
        "        stdout,\n",
        "        100,\n",
        "        step=True,\n",
        "        time=True,\n",
        "        potentialEnergy=True,\n",
        "        kineticEnergy=True,\n",
        "        totalEnergy=True,\n",
        "        temperature=True,\n",
        "        volume=True,\n",
        "        density=True,\n",
        "        progress=True,\n",
        "        remainingTime=True,\n",
        "        speed=True,\n",
        "        elapsedTime=True,\n",
        "        separator=\" \",\n",
        "        totalSteps=Nsteps,\n",
        "    )\n",
        ")\n",
        "\n"
      ],
      "metadata": {
        "id": "1-nC8lQB3ncU"
      },
      "execution_count": 23,
      "outputs": []
    },
    {
      "cell_type": "code",
      "source": [
        "# Finally run the simulation for the given timesteps\n",
        "print(\"Running simulation...\")\n",
        "simulation.step(Nsteps)"
      ],
      "metadata": {
        "id": "h1A6B8vo3neq",
        "colab": {
          "base_uri": "https://localhost:8080/"
        },
        "outputId": "9ebced74-bbb2-40c2-ac2f-cf858bbb2d0d"
      },
      "execution_count": null,
      "outputs": [
        {
          "output_type": "stream",
          "name": "stdout",
          "text": [
            "Running simulation...\n",
            "#\"Progress (%)\" \"Step\" \"Time (ps)\" \"Potential Energy (kJ/mole)\" \"Kinetic Energy (kJ/mole)\" \"Total Energy (kJ/mole)\" \"Temperature (K)\" \"Box Volume (nm^3)\" \"Density (g/mL)\" \"Speed (ns/day)\" \"Elapsed Time (s)\" \"Time Remaining\"\n",
            "2.0% 100 0.4000000000000003 -1738426.0665760953 98364.34190830702 -1640061.7246677883 120.54544768054288 993.18810550496 0.9837224499575474 0 0.002024412155151367 --\n",
            "4.0% 200 0.8000000000000006 -1695078.1213151705 148990.14861543776 -1546087.9726997328 182.58734635342284 983.5386092541745 0.9933737498692783 0.831 41.60710525512695 33:17\n",
            "6.0% 300 1.2000000000000008 -1664213.2641333784 180629.618515231 -1483583.6456181474 221.3614995623261 980.4733099136511 0.9964793804556283 0.833 82.96896243095398 32:29\n",
            "8.0% 400 1.6000000000000012 -1643280.4106627689 201426.46660654966 -1441853.9440562192 246.8480256232556 980.4733099136511 0.9964793804556283 0.803 129.10689210891724 32:59\n",
            "10.0% 500 2.0000000000000013 -1625251.9301168104 213414.1799416183 -1411837.750175192 261.53896181626055 980.4733099136511 0.9964793804556283 0.805 171.68278050422668 32:11\n",
            "12.0% 600 2.4000000000000017 -1612921.2296706417 223137.11248474775 -1389784.117185894 273.45441037659174 979.0847300399444 0.99789263016713 0.793 218.0168125629425 31:58\n",
            "14.0% 700 2.800000000000002 -1604106.2348195438 229617.10936813397 -1374489.1254514097 281.39564304406053 979.0692862013194 0.9979083709251767 0.783 264.67569398880005 31:36\n",
            "16.0% 800 3.2000000000000024 -1597459.9236581607 233619.4166999374 -1363840.5069582234 286.3004685093404 979.0919425048343 0.9978852792072798 0.784 308.6887786388397 30:52\n",
            "18.0% 900 3.6000000000000028 -1592344.070498742 236551.97613992164 -1355792.0943588202 289.8943185131582 979.0919425048343 0.9978852792072798 0.785 352.19644713401794 30:05\n",
            "20.0% 1000 4.000000000000003 -1588457.1351550354 239189.6622054648 -1349267.4729495705 293.12680135646355 979.0919425048343 0.9978852792072798 0.78 398.77443408966064 29:32\n",
            "22.0% 1100 4.399999999999959 -1587214.2636043138 239860.8506354476 -1347353.4129688663 293.94934241352365 976.9847667254562 1.0000375335336098 0.78 443.33288836479187 28:48\n",
            "24.0% 1200 4.799999999999915 -1584837.6996615857 240402.49300229838 -1344435.2066592874 294.6131248404487 976.9830629194366 1.0000392775453886 0.778 488.8781888484955 28:08\n",
            "26.0% 1300 5.1999999999998705 -1581780.705016313 242037.81970855928 -1339742.8853077537 296.6172168323814 976.9830629194366 1.0000392775453886 0.776 534.1191725730896 27:26\n",
            "28.0% 1400 5.5999999999998264 -1579742.0223563388 242844.22416448634 -1336897.7981918524 297.60546505592896 976.9830629194366 1.0000392775453886 0.778 577.7888126373291 26:40\n",
            "30.0% 1500 5.999999999999782 -1579307.7575622387 242827.8821192221 -1336479.8754430166 297.5854378883175 976.9830629194366 1.0000392775453886 0.778 622.0970931053162 25:55\n",
            "32.0% 1600 6.399999999999738 -1578292.056457483 243251.3600853148 -1335040.6963721681 298.1044099061761 975.1868998092707 1.0018812153927852 0.777 667.1602516174316 25:12\n",
            "34.0% 1700 6.799999999999694 -1576631.606537469 243888.6977555231 -1332742.908781946 298.88546687548467 975.1868998092707 1.0018812153927852 0.774 714.2568428516388 24:33\n",
            "36.0% 1800 7.19999999999965 -1575424.7859151768 244697.24854415702 -1330727.5373710198 299.87634542860087 975.1868998092707 1.0018812153927852 0.774 759.481636762619 23:49\n",
            "38.0% 1900 7.599999999999606 -1574820.0911903095 244400.36784151103 -1330419.7233487985 299.51251828846165 975.1868998092707 1.0018812153927852 0.772 806.1620373725891 23:08\n",
            "40.0% 2000 7.999999999999562 -1575509.8608766564 245357.74828505912 -1330152.1125915973 300.6857875029874 975.1868998092707 1.0018812153927852 0.771 851.9592571258545 22:25\n",
            "42.0% 2100 8.399999999999519 -1573138.7624389604 244885.50686588322 -1328253.2555730771 300.10705589981234 975.1868998092707 1.0018812153927852 0.769 898.2981815338135 21:42\n",
            "44.0% 2200 8.799999999999475 -1574994.9785167358 245759.77204681636 -1329235.2064699195 301.1784674050643 974.7060204565626 1.0023755018547924 0.769 944.1744832992554 20:58\n",
            "46.0% 2300 9.19999999999943 -1573417.461251224 245235.9620524257 -1328181.4991987983 300.53653854092136 974.7060204565626 1.0023755018547924 0.769 988.7582125663757 20:13\n",
            "48.0% 2400 9.599999999999387 -1574175.1142087427 246495.75549582695 -1327679.3587129158 302.0804147228144 974.385059523029 1.002705682796795 0.769 1034.1159026622772 19:29\n",
            "50.0% 2500 9.999999999999343 -1572078.9726795922 244851.58140387817 -1327227.3912757142 300.0654802645178 973.965501465911 1.003137621348522 0.769 1078.7242393493652 18:43\n",
            "52.0% 2600 10.399999999999299 -1572802.443978525 245259.32000802466 -1327543.1239705004 300.5651637028444 973.4018610535894 1.0037184800104317 0.769 1123.4655406475067 17:58\n",
            "54.0% 2700 10.799999999999255 -1572385.4748052778 245753.10460556424 -1326632.3701997136 301.17029645942455 973.8095589799193 1.0032982603287233 0.768 1170.61629652977 17:15\n",
            "56.0% 2800 11.19999999999921 -1572180.3880138388 245358.5735070411 -1326821.8145067976 300.6867988120789 973.4160662991388 1.0037038325560035 0.768 1214.283037662506 16:29\n",
            "58.0% 2900 11.599999999999167 -1571008.6790676909 244710.83959520276 -1326297.839472488 299.89300125428906 973.4160662991388 1.0037038325560035 0.768 1259.461053609848 15:44\n",
            "60.0% 3000 11.999999999999122 -1571776.386151133 245609.20853897603 -1326167.177612157 300.9939519078337 973.4415105193046 1.0036775973266436 0.768 1304.8593122959137 14:59\n",
            "62.0% 3100 12.399999999999078 -1571261.256558726 245367.79633906198 -1325893.460219664 300.6981013877203 973.4415105193046 1.0036775973266436 0.766 1353.3180406093597 14:17\n",
            "64.0% 3200 12.799999999999034 -1570702.763670604 245272.85718743427 -1325429.9064831696 300.5817535088717 973.4415105193046 1.0036775973266436 0.765 1401.0015926361084 13:33\n",
            "66.0% 3300 13.19999999999899 -1571822.7890084912 245346.7312369039 -1326476.0577715873 300.672286116446 972.9089581210144 1.0042269919098725 0.765 1445.384558916092 12:47\n"
          ]
        }
      ]
    },
    {
      "cell_type": "code",
      "source": [],
      "metadata": {
        "id": "tynQTmP62Vd0"
      },
      "execution_count": null,
      "outputs": []
    },
    {
      "cell_type": "markdown",
      "source": [
        "# Results\n",
        "\n",
        "The simulation is completed. Now download the minimized PDB file (that gives the starting coordinates and the identity of the atoms) and the DCD file (a binary file, providing the trajectory, i.e. a series of snapshots of the coordinates). They can be best visualized locally on e.g. PyMol or VMD.\n"
      ],
      "metadata": {
        "id": "dTDrR8xhjDI4"
      }
    },
    {
      "cell_type": "code",
      "source": [],
      "metadata": {
        "id": "mrVnxGYl6hM9"
      },
      "execution_count": null,
      "outputs": []
    }
  ],
  "metadata": {
    "colab": {
      "provenance": [],
      "authorship_tag": "ABX9TyN91na49+XghjFx5ErjVL6j",
      "include_colab_link": true
    },
    "kernelspec": {
      "display_name": "Python 3",
      "name": "python3"
    },
    "language_info": {
      "name": "python"
    }
  },
  "nbformat": 4,
  "nbformat_minor": 0
}