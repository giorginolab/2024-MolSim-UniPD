{
  "cells": [
    {
      "cell_type": "markdown",
      "metadata": {
        "id": "oeIY1rm5iMoS"
      },
      "source": [
        "# Colab-specific instructions start here\n",
        "\n",
        "Note to myself: a copy of this file should be in https://github.com/giorginolab/MD-Tutorial-Data/"
      ]
    },
    {
      "cell_type": "code",
      "execution_count": 2,
      "metadata": {
        "colab": {
          "base_uri": "https://localhost:8080/"
        },
        "id": "JAEqnt4SnTJD",
        "outputId": "e93cdc73-8bef-4c53-8fae-0384ff04c0a5"
      },
      "outputs": [
        {
          "output_type": "stream",
          "name": "stdout",
          "text": [
            "\u001b[33mWARNING: Running pip as the 'root' user can result in broken permissions and conflicting behaviour with the system package manager. It is recommended to use a virtual environment instead: https://pip.pypa.io/warnings/venv\u001b[0m\u001b[33m\n",
            "\u001b[0m✨🍰✨ Everything looks OK!\n"
          ]
        }
      ],
      "source": [
        "# Here we use a Conda environment inside Google Colab. Blocks specific for Colab\n",
        "# (like this one) mention \"condacolab\". On \"normal\" platforms the procedure\n",
        "# for installation may be different - you need to check the system's documentation.\n",
        "\n",
        "# Colab notebooks are \"brittle\": in the course of time Colab is updated\n",
        "# and dependencies no longer work properly. Proper HPC platforms are more\n",
        "# stable (and supported)\n",
        "\n",
        "# After executing this cell, Colab restarts.\n",
        "\n",
        "if 'google.colab' in str(get_ipython()):\n",
        "  ! pip install -q condacolab\n",
        "  import condacolab\n",
        "  condacolab.install_miniforge()"
      ]
    },
    {
      "cell_type": "code",
      "execution_count": 3,
      "metadata": {
        "colab": {
          "base_uri": "https://localhost:8080/"
        },
        "id": "P0W7Hh7YqfTU",
        "outputId": "050ef50b-8f39-4f3a-c85a-a1ba0aa656ad"
      },
      "outputs": [
        {
          "output_type": "stream",
          "name": "stdout",
          "text": [
            "✨🍰✨ Everything looks OK!\n"
          ]
        }
      ],
      "source": [
        "if 'google.colab' in str(get_ipython()):\n",
        "  condacolab.check()"
      ]
    },
    {
      "cell_type": "code",
      "execution_count": 4,
      "metadata": {
        "id": "-MReG_6ZoJGw"
      },
      "outputs": [],
      "source": [
        "# Colab-specific workaround for a weird error upon shell escape:\n",
        "#   NotImplementedError: A UTF-8 locale is required. Got ANSI_X3.4-1968\n",
        "if 'google.colab' in str(get_ipython()):\n",
        "  import locale\n",
        "  def getpreferredencoding(do_setlocale = True):\n",
        "    return \"UTF-8\"\n",
        "  locale.getpreferredencoding = getpreferredencoding"
      ]
    },
    {
      "cell_type": "markdown",
      "source": [
        "# Install software"
      ],
      "metadata": {
        "id": "dKG3ents9-ya"
      }
    },
    {
      "cell_type": "code",
      "execution_count": null,
      "metadata": {
        "colab": {
          "base_uri": "https://localhost:8080/"
        },
        "id": "sEPay7j6oqf-",
        "outputId": "91553189-6519-4931-cb80-69b1395352cc"
      },
      "outputs": [
        {
          "output_type": "stream",
          "name": "stdout",
          "text": [
            "Channels:\n",
            " - conda-forge\n",
            "Platform: linux-64\n",
            "Collecting package metadata (repodata.json): ...working... done\n",
            "Solving environment: ...working... done\n",
            "\n",
            "## Package Plan ##\n",
            "\n",
            "  environment location: /usr/local\n",
            "\n",
            "  added / updated specs:\n",
            "    - mdtraj\n",
            "    - openbabel\n",
            "    - rdkit\n",
            "    - smina\n",
            "\n",
            "\n",
            "The following packages will be downloaded:\n",
            "\n",
            "    package                    |            build\n",
            "    ---------------------------|-----------------\n",
            "    astunparse-1.6.3           |     pyhd8ed1ab_0          15 KB  conda-forge\n",
            "    blosc-1.21.5               |       hc2324a3_1          48 KB  conda-forge\n",
            "    brotli-1.1.0               |       hd590300_1          19 KB  conda-forge\n",
            "    brotli-bin-1.1.0           |       hd590300_1          19 KB  conda-forge\n",
            "    c-blosc2-2.14.4            |       hb4ffafa_1         329 KB  conda-forge\n",
            "    ca-certificates-2024.2.2   |       hbcca054_0         152 KB  conda-forge\n",
            "    cairo-1.18.0               |       h3faef2a_0         959 KB  conda-forge\n",
            "    certifi-2024.2.2           |     pyhd8ed1ab_0         157 KB  conda-forge\n",
            "    chardet-5.2.0              |  py310hff52083_1         241 KB  conda-forge\n",
            "    contourpy-1.2.1            |  py310hd41b1e2_0         236 KB  conda-forge\n",
            "    cycler-0.12.1              |     pyhd8ed1ab_0          13 KB  conda-forge\n",
            "    expat-2.6.2                |       h59595ed_0         134 KB  conda-forge\n",
            "    font-ttf-dejavu-sans-mono-2.37|       hab24e00_0         388 KB  conda-forge\n",
            "    font-ttf-inconsolata-3.000 |       h77eed37_0          94 KB  conda-forge\n",
            "    font-ttf-source-code-pro-2.038|       h77eed37_0         684 KB  conda-forge\n",
            "    font-ttf-ubuntu-0.83       |       h77eed37_2         1.5 MB  conda-forge\n",
            "    fontconfig-2.14.2          |       h14ed4e7_0         266 KB  conda-forge\n",
            "    fonts-conda-ecosystem-1    |                0           4 KB  conda-forge\n",
            "    fonts-conda-forge-1        |                0           4 KB  conda-forge\n",
            "    fonttools-4.51.0           |  py310h2372a71_0         2.2 MB  conda-forge\n",
            "    freetype-2.12.1            |       h267a509_2         620 KB  conda-forge\n",
            "    freetype-py-2.3.0          |     pyhd8ed1ab_0          58 KB  conda-forge\n",
            "    greenlet-3.0.3             |  py310hc6cd4ac_0         206 KB  conda-forge\n",
            "    hdf5-1.14.3                |nompi_h4f84152_100         3.7 MB  conda-forge\n",
            "    kiwisolver-1.4.5           |  py310hd41b1e2_1          71 KB  conda-forge\n",
            "    lcms2-2.16                 |       hb7c19ff_0         239 KB  conda-forge\n",
            "    lerc-4.0.0                 |       h27087fc_0         275 KB  conda-forge\n",
            "    libaec-1.1.3               |       h59595ed_0          35 KB  conda-forge\n",
            "    libblas-3.9.0              |22_linux64_openblas          14 KB  conda-forge\n",
            "    libboost-1.82.0            |       h6fcfa73_6         2.5 MB  conda-forge\n",
            "    libboost-python-1.82.0     |  py310hcb52e73_6         116 KB  conda-forge\n",
            "    libbrotlicommon-1.1.0      |       hd590300_1          68 KB  conda-forge\n",
            "    libbrotlidec-1.1.0         |       hd590300_1          32 KB  conda-forge\n",
            "    libbrotlienc-1.1.0         |       hd590300_1         276 KB  conda-forge\n",
            "    libcblas-3.9.0             |22_linux64_openblas          14 KB  conda-forge\n",
            "    libdeflate-1.20            |       hd590300_0          70 KB  conda-forge\n",
            "    libexpat-2.6.2             |       h59595ed_0          72 KB  conda-forge\n",
            "    libgfortran-ng-13.2.0      |       h69a702a_7          24 KB  conda-forge\n",
            "    libgfortran5-13.2.0        |       hca663fb_7         1.4 MB  conda-forge\n",
            "    libglib-2.80.2             |       hf974151_0         3.7 MB  conda-forge\n",
            "    libjpeg-turbo-3.0.0        |       hd590300_1         604 KB  conda-forge\n",
            "    liblapack-3.9.0            |22_linux64_openblas          14 KB  conda-forge\n",
            "    libopenblas-0.3.27         |pthreads_h413a1c8_0         5.3 MB  conda-forge\n",
            "    libpng-1.6.43              |       h2797004_0         281 KB  conda-forge\n",
            "    libtiff-4.6.0              |       h1dd3fc0_3         276 KB  conda-forge\n",
            "    libwebp-base-1.4.0         |       hd590300_0         429 KB  conda-forge\n",
            "    libxcb-1.15                |       h0b41bf4_0         375 KB  conda-forge\n",
            "    matplotlib-base-3.8.4      |  py310h62c0568_0         6.7 MB  conda-forge\n",
            "    mdtraj-1.9.9               |  py310h523e8d7_1         1.4 MB  conda-forge\n",
            "    munkres-1.1.4              |     pyh9f0ad1d_0          12 KB  conda-forge\n",
            "    nomkl-1.0                  |       h5ca1d4c_0           4 KB  conda-forge\n",
            "    numexpr-2.9.0              |py310hc2d3c2e_100         132 KB  conda-forge\n",
            "    numpy-1.26.4               |  py310hb13e2d6_0         6.7 MB  conda-forge\n",
            "    openbabel-3.1.1            |  py310hbff9852_9         5.0 MB  conda-forge\n",
            "    openjpeg-2.5.2             |       h488ebb8_0         334 KB  conda-forge\n",
            "    openssl-3.3.0              |       hd590300_0         2.8 MB  conda-forge\n",
            "    pandas-2.1.4               |  py310hcc13569_0        11.8 MB  conda-forge\n",
            "    pcre2-10.43                |       hcad00b1_0         929 KB  conda-forge\n",
            "    pillow-10.3.0              |  py310hf73ecf8_0        39.8 MB  conda-forge\n",
            "    pixman-0.43.2              |       h59595ed_0         378 KB  conda-forge\n",
            "    pthread-stubs-0.4          |    h36c2ea0_1001           5 KB  conda-forge\n",
            "    py-cpuinfo-9.0.0           |     pyhd8ed1ab_0          24 KB  conda-forge\n",
            "    pycairo-1.26.0             |  py310hda9f760_0         114 KB  conda-forge\n",
            "    pyparsing-3.1.2            |     pyhd8ed1ab_0          87 KB  conda-forge\n",
            "    pytables-3.9.2             |  py310hd76cd5d_2         1.3 MB  conda-forge\n",
            "    python-dateutil-2.9.0      |     pyhd8ed1ab_0         218 KB  conda-forge\n",
            "    python-tzdata-2024.1       |     pyhd8ed1ab_0         141 KB  conda-forge\n",
            "    pytz-2024.1                |     pyhd8ed1ab_0         184 KB  conda-forge\n",
            "    rdkit-2023.09.6            |  py310hb79e901_1        36.0 MB  conda-forge\n",
            "    reportlab-4.1.0            |  py310h2372a71_0         2.2 MB  conda-forge\n",
            "    rlpycairo-0.2.0            |     pyhd8ed1ab_0          15 KB  conda-forge\n",
            "    scipy-1.13.0               |  py310h93e2701_1        15.8 MB  conda-forge\n",
            "    six-1.16.0                 |     pyh6c4a22f_0          14 KB  conda-forge\n",
            "    smina-2020.12.10           |       hd5edb52_1         564 KB  conda-forge\n",
            "    snappy-1.2.0               |       hdb0a2a9_1          41 KB  conda-forge\n",
            "    sqlalchemy-2.0.30          |  py310hc51659f_0         2.7 MB  conda-forge\n",
            "    typing-extensions-4.11.0   |       hd8ed1ab_0          10 KB  conda-forge\n",
            "    typing_extensions-4.11.0   |     pyha770c72_0          37 KB  conda-forge\n",
            "    unicodedata2-15.1.0        |  py310h2372a71_0         365 KB  conda-forge\n",
            "    xorg-kbproto-1.0.7         |    h7f98852_1002          27 KB  conda-forge\n",
            "    xorg-libice-1.1.1          |       hd590300_0          57 KB  conda-forge\n",
            "    xorg-libsm-1.2.4           |       h7391055_0          27 KB  conda-forge\n",
            "    xorg-libx11-1.8.9          |       h8ee46fc_0         809 KB  conda-forge\n",
            "    xorg-libxau-1.0.11         |       hd590300_0          14 KB  conda-forge\n",
            "    xorg-libxdmcp-1.1.3        |       h7f98852_0          19 KB  conda-forge\n",
            "    xorg-libxext-1.3.4         |       h0b41bf4_2          49 KB  conda-forge\n",
            "    xorg-libxrender-0.9.11     |       hd590300_0          37 KB  conda-forge\n",
            "    xorg-renderproto-0.11.1    |    h7f98852_1002           9 KB  conda-forge\n",
            "    xorg-xextproto-7.3.0       |    h0b41bf4_1003          30 KB  conda-forge\n",
            "    xorg-xproto-7.0.31         |    h7f98852_1007          73 KB  conda-forge\n",
            "    zlib-1.2.13                |       hd590300_5          91 KB  conda-forge\n",
            "    zlib-ng-2.0.7              |       h0b41bf4_0          92 KB  conda-forge\n",
            "    ------------------------------------------------------------\n",
            "                                           Total:       165.2 MB\n",
            "\n",
            "The following NEW packages will be INSTALLED:\n",
            "\n",
            "  astunparse         conda-forge/noarch::astunparse-1.6.3-pyhd8ed1ab_0 \n",
            "  blosc              conda-forge/linux-64::blosc-1.21.5-hc2324a3_1 \n",
            "  brotli             conda-forge/linux-64::brotli-1.1.0-hd590300_1 \n",
            "  brotli-bin         conda-forge/linux-64::brotli-bin-1.1.0-hd590300_1 \n",
            "  c-blosc2           conda-forge/linux-64::c-blosc2-2.14.4-hb4ffafa_1 \n",
            "  cairo              conda-forge/linux-64::cairo-1.18.0-h3faef2a_0 \n",
            "  chardet            conda-forge/linux-64::chardet-5.2.0-py310hff52083_1 \n",
            "  contourpy          conda-forge/linux-64::contourpy-1.2.1-py310hd41b1e2_0 \n",
            "  cycler             conda-forge/noarch::cycler-0.12.1-pyhd8ed1ab_0 \n",
            "  expat              conda-forge/linux-64::expat-2.6.2-h59595ed_0 \n",
            "  font-ttf-dejavu-s~ conda-forge/noarch::font-ttf-dejavu-sans-mono-2.37-hab24e00_0 \n",
            "  font-ttf-inconsol~ conda-forge/noarch::font-ttf-inconsolata-3.000-h77eed37_0 \n",
            "  font-ttf-source-c~ conda-forge/noarch::font-ttf-source-code-pro-2.038-h77eed37_0 \n",
            "  font-ttf-ubuntu    conda-forge/noarch::font-ttf-ubuntu-0.83-h77eed37_2 \n",
            "  fontconfig         conda-forge/linux-64::fontconfig-2.14.2-h14ed4e7_0 \n",
            "  fonts-conda-ecosy~ conda-forge/noarch::fonts-conda-ecosystem-1-0 \n",
            "  fonts-conda-forge  conda-forge/noarch::fonts-conda-forge-1-0 \n",
            "  fonttools          conda-forge/linux-64::fonttools-4.51.0-py310h2372a71_0 \n",
            "  freetype           conda-forge/linux-64::freetype-2.12.1-h267a509_2 \n",
            "  freetype-py        conda-forge/noarch::freetype-py-2.3.0-pyhd8ed1ab_0 \n",
            "  greenlet           conda-forge/linux-64::greenlet-3.0.3-py310hc6cd4ac_0 \n",
            "  hdf5               conda-forge/linux-64::hdf5-1.14.3-nompi_h4f84152_100 \n",
            "  kiwisolver         conda-forge/linux-64::kiwisolver-1.4.5-py310hd41b1e2_1 \n",
            "  lcms2              conda-forge/linux-64::lcms2-2.16-hb7c19ff_0 \n",
            "  lerc               conda-forge/linux-64::lerc-4.0.0-h27087fc_0 \n",
            "  libaec             conda-forge/linux-64::libaec-1.1.3-h59595ed_0 \n",
            "  libblas            conda-forge/linux-64::libblas-3.9.0-22_linux64_openblas \n",
            "  libboost           conda-forge/linux-64::libboost-1.82.0-h6fcfa73_6 \n",
            "  libboost-python    conda-forge/linux-64::libboost-python-1.82.0-py310hcb52e73_6 \n",
            "  libbrotlicommon    conda-forge/linux-64::libbrotlicommon-1.1.0-hd590300_1 \n",
            "  libbrotlidec       conda-forge/linux-64::libbrotlidec-1.1.0-hd590300_1 \n",
            "  libbrotlienc       conda-forge/linux-64::libbrotlienc-1.1.0-hd590300_1 \n",
            "  libcblas           conda-forge/linux-64::libcblas-3.9.0-22_linux64_openblas \n",
            "  libdeflate         conda-forge/linux-64::libdeflate-1.20-hd590300_0 \n",
            "  libexpat           conda-forge/linux-64::libexpat-2.6.2-h59595ed_0 \n",
            "  libgfortran-ng     conda-forge/linux-64::libgfortran-ng-13.2.0-h69a702a_7 \n",
            "  libgfortran5       conda-forge/linux-64::libgfortran5-13.2.0-hca663fb_7 \n",
            "  libglib            conda-forge/linux-64::libglib-2.80.2-hf974151_0 \n",
            "  libjpeg-turbo      conda-forge/linux-64::libjpeg-turbo-3.0.0-hd590300_1 \n",
            "  liblapack          conda-forge/linux-64::liblapack-3.9.0-22_linux64_openblas \n",
            "  libopenblas        conda-forge/linux-64::libopenblas-0.3.27-pthreads_h413a1c8_0 \n",
            "  libpng             conda-forge/linux-64::libpng-1.6.43-h2797004_0 \n",
            "  libtiff            conda-forge/linux-64::libtiff-4.6.0-h1dd3fc0_3 \n",
            "  libwebp-base       conda-forge/linux-64::libwebp-base-1.4.0-hd590300_0 \n",
            "  libxcb             conda-forge/linux-64::libxcb-1.15-h0b41bf4_0 \n",
            "  matplotlib-base    conda-forge/linux-64::matplotlib-base-3.8.4-py310h62c0568_0 \n",
            "  mdtraj             conda-forge/linux-64::mdtraj-1.9.9-py310h523e8d7_1 \n",
            "  munkres            conda-forge/noarch::munkres-1.1.4-pyh9f0ad1d_0 \n",
            "  nomkl              conda-forge/noarch::nomkl-1.0-h5ca1d4c_0 \n",
            "  numexpr            conda-forge/linux-64::numexpr-2.9.0-py310hc2d3c2e_100 \n",
            "  numpy              conda-forge/linux-64::numpy-1.26.4-py310hb13e2d6_0 \n",
            "  openbabel          conda-forge/linux-64::openbabel-3.1.1-py310hbff9852_9 \n",
            "  openjpeg           conda-forge/linux-64::openjpeg-2.5.2-h488ebb8_0 \n",
            "  pandas             conda-forge/linux-64::pandas-2.1.4-py310hcc13569_0 \n",
            "  pcre2              conda-forge/linux-64::pcre2-10.43-hcad00b1_0 \n",
            "  pillow             conda-forge/linux-64::pillow-10.3.0-py310hf73ecf8_0 \n",
            "  pixman             conda-forge/linux-64::pixman-0.43.2-h59595ed_0 \n",
            "  pthread-stubs      conda-forge/linux-64::pthread-stubs-0.4-h36c2ea0_1001 \n",
            "  py-cpuinfo         conda-forge/noarch::py-cpuinfo-9.0.0-pyhd8ed1ab_0 \n",
            "  pycairo            conda-forge/linux-64::pycairo-1.26.0-py310hda9f760_0 \n",
            "  pyparsing          conda-forge/noarch::pyparsing-3.1.2-pyhd8ed1ab_0 \n",
            "  pytables           conda-forge/linux-64::pytables-3.9.2-py310hd76cd5d_2 \n",
            "  python-dateutil    conda-forge/noarch::python-dateutil-2.9.0-pyhd8ed1ab_0 \n",
            "  python-tzdata      conda-forge/noarch::python-tzdata-2024.1-pyhd8ed1ab_0 \n",
            "  pytz               conda-forge/noarch::pytz-2024.1-pyhd8ed1ab_0 \n",
            "  rdkit              conda-forge/linux-64::rdkit-2023.09.6-py310hb79e901_1 \n",
            "  reportlab          conda-forge/linux-64::reportlab-4.1.0-py310h2372a71_0 \n",
            "  rlpycairo          conda-forge/noarch::rlpycairo-0.2.0-pyhd8ed1ab_0 \n",
            "  scipy              conda-forge/linux-64::scipy-1.13.0-py310h93e2701_1 \n",
            "  six                conda-forge/noarch::six-1.16.0-pyh6c4a22f_0 \n",
            "  smina              conda-forge/linux-64::smina-2020.12.10-hd5edb52_1 \n",
            "  snappy             conda-forge/linux-64::snappy-1.2.0-hdb0a2a9_1 \n",
            "  sqlalchemy         conda-forge/linux-64::sqlalchemy-2.0.30-py310hc51659f_0 \n",
            "  typing-extensions  conda-forge/noarch::typing-extensions-4.11.0-hd8ed1ab_0 \n",
            "  typing_extensions  conda-forge/noarch::typing_extensions-4.11.0-pyha770c72_0 \n",
            "  unicodedata2       conda-forge/linux-64::unicodedata2-15.1.0-py310h2372a71_0 \n",
            "  xorg-kbproto       conda-forge/linux-64::xorg-kbproto-1.0.7-h7f98852_1002 \n",
            "  xorg-libice        conda-forge/linux-64::xorg-libice-1.1.1-hd590300_0 \n",
            "  xorg-libsm         conda-forge/linux-64::xorg-libsm-1.2.4-h7391055_0 \n",
            "  xorg-libx11        conda-forge/linux-64::xorg-libx11-1.8.9-h8ee46fc_0 \n",
            "  xorg-libxau        conda-forge/linux-64::xorg-libxau-1.0.11-hd590300_0 \n",
            "  xorg-libxdmcp      conda-forge/linux-64::xorg-libxdmcp-1.1.3-h7f98852_0 \n",
            "  xorg-libxext       conda-forge/linux-64::xorg-libxext-1.3.4-h0b41bf4_2 \n",
            "  xorg-libxrender    conda-forge/linux-64::xorg-libxrender-0.9.11-hd590300_0 \n",
            "  xorg-renderproto   conda-forge/linux-64::xorg-renderproto-0.11.1-h7f98852_1002 \n",
            "  xorg-xextproto     conda-forge/linux-64::xorg-xextproto-7.3.0-h0b41bf4_1003 \n",
            "  xorg-xproto        conda-forge/linux-64::xorg-xproto-7.0.31-h7f98852_1007 \n",
            "  zlib               conda-forge/linux-64::zlib-1.2.13-hd590300_5 \n",
            "  zlib-ng            conda-forge/linux-64::zlib-ng-2.0.7-h0b41bf4_0 \n",
            "\n",
            "The following packages will be UPDATED:\n",
            "\n",
            "  ca-certificates                     2023.11.17-hbcca054_0 --> 2024.2.2-hbcca054_0 \n",
            "  certifi                           2023.11.17-pyhd8ed1ab_0 --> 2024.2.2-pyhd8ed1ab_0 \n",
            "  openssl                                  3.2.0-hd590300_1 --> 3.3.0-hd590300_0 \n",
            "\n",
            "\n"
          ]
        }
      ],
      "source": [
        "# Install OpenMM. Takes a long time (unless already installed).\n",
        "if 'google.colab' in str(get_ipython()):\n",
        "  !conda install -q -c conda-forge openbabel smina rdkit mdtraj"
      ]
    },
    {
      "cell_type": "code",
      "source": [
        "# Gnina is a GPU accelerated docking program, https://jcheminf.biomedcentral.com/articles/10.1186/s13321-021-00522-2\n",
        "!wget -c https://github.com/gnina/gnina/releases/download/v1.1/gnina\n",
        "!chmod a+x gnina\n",
        "!mv gnina /usr/local/bin\n",
        "!gnina --version"
      ],
      "metadata": {
        "id": "1w5vvnmO-K1J"
      },
      "execution_count": null,
      "outputs": []
    },
    {
      "cell_type": "markdown",
      "metadata": {
        "id": "CUCYRv29iTZL"
      },
      "source": [
        "# Generic installation instructions"
      ]
    },
    {
      "cell_type": "code",
      "execution_count": null,
      "metadata": {
        "id": "6tn-o7_HPTPH"
      },
      "outputs": [],
      "source": [
        "# Verify Python version\n",
        "import sys\n",
        "print(sys.version)\n",
        "\n",
        "# Verify GPU availability and type. If you get an error, check that\n",
        "# \"Runtime / Runtime type / GPU\" is selected.\n",
        "!nvidia-smi\n"
      ]
    },
    {
      "cell_type": "markdown",
      "source": [
        "# Begin"
      ],
      "metadata": {
        "id": "jjQSrCVl_Kg9"
      }
    },
    {
      "cell_type": "markdown",
      "source": [
        "## SMILES strings encode (small) molecues\n",
        "\n",
        "Note that they are not unique. (\"Canonical SMILES\" are, but they are still software-dependent)."
      ],
      "metadata": {
        "id": "BoiOP85p_bSq"
      }
    },
    {
      "cell_type": "code",
      "source": [
        "# https://www.rdkit.org/docs/GettingStartedInPython.html\n",
        "from rdkit import Chem\n",
        "from rdkit.Chem import Draw\n",
        "from rdkit.Chem.Lipinski import *\n",
        "\n",
        "m = Chem.MolFromSmiles('Cc1ccccc1')\n",
        "m"
      ],
      "metadata": {
        "id": "EVhTtSl8_LJS"
      },
      "execution_count": null,
      "outputs": []
    },
    {
      "cell_type": "code",
      "source": [
        "from rdkit.Chem import Descriptors\n",
        "import pandas as pd\n",
        "descs = Descriptors.CalcMolDescriptors(m)\n",
        "descs.keys()"
      ],
      "metadata": {
        "id": "1sTyR6W1_Llw"
      },
      "execution_count": null,
      "outputs": []
    },
    {
      "cell_type": "code",
      "source": [
        "descs[\"NumRotatableBonds\"]"
      ],
      "metadata": {
        "id": "8-HAIrFl_LoJ"
      },
      "execution_count": null,
      "outputs": []
    },
    {
      "cell_type": "code",
      "source": [
        "from rdkit.Chem import AllChem\n",
        "AllChem.Compute2DCoords(m)\n",
        "print(Chem.MolToMolBlock(m))"
      ],
      "metadata": {
        "id": "pChbCdr1_Lpj"
      },
      "execution_count": null,
      "outputs": []
    },
    {
      "cell_type": "code",
      "source": [
        "mH = Chem.AddHs(m)\n",
        "AllChem.EmbedMolecule(mH, AllChem.ETKDGv3())\n",
        "print(Chem.MolToMolBlock(mH))\n"
      ],
      "metadata": {
        "id": "xIrg_N6ME3p4"
      },
      "execution_count": null,
      "outputs": []
    },
    {
      "cell_type": "code",
      "source": [],
      "metadata": {
        "id": "ZmUXynLNFF94"
      },
      "execution_count": null,
      "outputs": []
    },
    {
      "cell_type": "markdown",
      "source": [
        "## Ibuprofen and aspirin\n",
        "\n",
        "The SMILES string of aspirin is `CC(C)Cc1ccc(cc1)[C@H](C)C(=O)O`."
      ],
      "metadata": {
        "id": "a72hNMhtI6jE"
      }
    },
    {
      "cell_type": "code",
      "source": [
        "ain_s=\"CC(=O)Oc1ccccc1C(=O)O\"\n",
        "ain=Chem.MolFromSmiles(ain_s)"
      ],
      "metadata": {
        "id": "Btd-ZGrdI8cZ"
      },
      "execution_count": null,
      "outputs": []
    },
    {
      "cell_type": "code",
      "source": [
        "display(ain)\n"
      ],
      "metadata": {
        "id": "M57bNQ_azr-G"
      },
      "execution_count": null,
      "outputs": []
    },
    {
      "cell_type": "code",
      "source": [
        "ainH = Chem.AddHs(ain)\n",
        "AllChem.EmbedMolecule(ainH, AllChem.ETKDGv3())\n",
        "display(ainH)"
      ],
      "metadata": {
        "id": "EkTOu9FP0x3K"
      },
      "execution_count": null,
      "outputs": []
    },
    {
      "cell_type": "code",
      "source": [
        "Descriptors.NumRotatableBonds(ain)"
      ],
      "metadata": {
        "id": "lUt_3pTn3NVQ"
      },
      "execution_count": null,
      "outputs": []
    },
    {
      "cell_type": "code",
      "source": [],
      "metadata": {
        "id": "pTvimKTu3R5E"
      },
      "execution_count": null,
      "outputs": []
    },
    {
      "cell_type": "markdown",
      "source": [
        "Ibuprofen has two enantiomers (one chiral center). (S)-ibuprofen is the active one. The (R) enantiomer is converted by an enzyme, so it becomes active as well. Here we specify the (R) stereochemistry from the get-go."
      ],
      "metadata": {
        "id": "29_fmLAQNiVm"
      }
    },
    {
      "cell_type": "code",
      "source": [
        "ibp_s=\"CC(C)Cc1ccc(cc1)[C@H](C)C(=O)O\"\n",
        "ibp=Chem.MolFromSmiles(ibp_s)\n",
        "\n",
        "display(ibp)\n",
        "ibpH = Chem.AddHs(ibp)\n",
        "AllChem.EmbedMolecule(ibpH, AllChem.ETKDGv3())\n",
        "display(ibpH)"
      ],
      "metadata": {
        "id": "OADZUlvwz4L0"
      },
      "execution_count": null,
      "outputs": []
    },
    {
      "cell_type": "code",
      "source": [
        "Descriptors.NumRotatableBonds(ibp)"
      ],
      "metadata": {
        "id": "WjoXJet1z4vy"
      },
      "execution_count": null,
      "outputs": []
    },
    {
      "cell_type": "code",
      "source": [],
      "metadata": {
        "id": "U9gVO7Pa1fFc"
      },
      "execution_count": null,
      "outputs": []
    },
    {
      "cell_type": "code",
      "source": [],
      "metadata": {
        "id": "mn8WzQmM9oKk"
      },
      "execution_count": null,
      "outputs": []
    },
    {
      "cell_type": "code",
      "source": [
        "cel=Chem.MolFromSmiles(\"Cc1ccc(cc1)c2cc(nn2c3ccc(cc3)S(=O)(=O)N)C(F)(F)F\")\n",
        "cel"
      ],
      "metadata": {
        "id": "OOOst18f9oMf"
      },
      "execution_count": null,
      "outputs": []
    },
    {
      "cell_type": "code",
      "source": [
        "Descriptors.NumRotatableBonds(cel)"
      ],
      "metadata": {
        "id": "FQnd1v729oOu"
      },
      "execution_count": null,
      "outputs": []
    },
    {
      "cell_type": "code",
      "source": [],
      "metadata": {
        "id": "8Zzvt4Ji98cA"
      },
      "execution_count": null,
      "outputs": []
    },
    {
      "cell_type": "markdown",
      "source": [
        "# Prepare a \"library\".\n",
        "\n",
        "I.e., a single SDF files with the 3 candidates. This will be our \"library\". Actual virtual screening efforts use libraries of thousands to millions of compounds. Of course, they are parallelized over CPUs and nodes.\n",
        "\n",
        "Note that the following are not granted:\n",
        " * Drug-likeness\n",
        " * Purchase-ability\n",
        " * Synthetic accessibility\n",
        " * Stereochemistry\n",
        " * Stability\n",
        " * ...and so on.\n",
        "\n",
        " Since we are here, add a couple of properties that are carried together with the molecule. (InchiKey is the hashed version of the standard \"International Chemical Identifier (InChI)\")"
      ],
      "metadata": {
        "id": "hGc0FUUeHhzi"
      }
    },
    {
      "cell_type": "code",
      "source": [
        "with Chem.SDWriter('mylibrary.sdf') as w:\n",
        "  for m in [ain, ibp, cel]:\n",
        "    m.SetProp(\"SMILES\", Chem.MolToSmiles(m))\n",
        "    m.SetProp(\"InchiKey\", Chem.MolToInchiKey(m))\n",
        "    w.write(m)\n"
      ],
      "metadata": {
        "id": "tIMuZSWF98eH"
      },
      "execution_count": null,
      "outputs": []
    },
    {
      "cell_type": "code",
      "source": [
        "%cat mylibrary.sdf"
      ],
      "metadata": {
        "id": "Ss6Fq55P32cC"
      },
      "execution_count": null,
      "outputs": []
    },
    {
      "cell_type": "markdown",
      "source": [
        "Protonate the library for pH 7 and generate 3D conformers. (We could have done the 3D conformer generation with RDKit as well)."
      ],
      "metadata": {
        "id": "qjPDwTMIIJWe"
      }
    },
    {
      "cell_type": "code",
      "source": [
        "!obabel mylibrary.sdf -O mylibrary_p.sdf --gen3D -p7"
      ],
      "metadata": {
        "id": "Qcn1M0Zb1_lc"
      },
      "execution_count": null,
      "outputs": []
    },
    {
      "cell_type": "code",
      "source": [
        "%cat mylibrary_p.sdf"
      ],
      "metadata": {
        "id": "B5rzY6ED_dHY"
      },
      "execution_count": null,
      "outputs": []
    },
    {
      "cell_type": "code",
      "source": [],
      "metadata": {
        "id": "o18O6Mge_h_3"
      },
      "execution_count": null,
      "outputs": []
    },
    {
      "cell_type": "markdown",
      "source": [
        "# Docking\n",
        "\n",
        "Now we do some pre-preparation on the receptor. Dock a few NSAIDs to the cyclooxygenase 2 (COX-2) target.\n",
        "\n",
        "We'll use these structures:\n",
        " * 3LN1: \"Structure of celecoxib bound at the COX-2 active site\". (Mouse)\n",
        " * 1EQG: \"THE 2.6 ANGSTROM MODEL OF OVINE COX-1 COMPLEXED WITH IBUPROFEN\"\n",
        "\n",
        "We'll dock to the former, and validate on the latter."
      ],
      "metadata": {
        "id": "QzTxMJdsQvcr"
      }
    },
    {
      "cell_type": "code",
      "source": [
        "import mdtraj as mdt\n",
        "cox2 = mdt.load_pdb(\"https://files.rcsb.org/download/3LN1.pdb\")"
      ],
      "metadata": {
        "id": "lKqPC0X34HP2"
      },
      "execution_count": null,
      "outputs": []
    },
    {
      "cell_type": "code",
      "source": [
        "# Extract biological assembly (dimer), protein only\n",
        "cox2ba = cox2.atom_slice(\n",
        "    cox2.topology.select(\"protein and chainid 0 or chainid 1\")\n",
        ")\n",
        "cox2ba.save(\"rec.pdb\")"
      ],
      "metadata": {
        "id": "rp1bUurM4jYW"
      },
      "execution_count": null,
      "outputs": []
    },
    {
      "cell_type": "code",
      "source": [
        "# ONLY one ligand, used for defining the binding site\n",
        "lig_4 = cox2.atom_slice(\n",
        "    cox2.topology.select(\"resname CEL\")\n",
        ")\n",
        "lig_1 = lig_4.atom_slice(\n",
        "    lig_4.topology.select(\"chainid 0\")\n",
        ")\n",
        "lig_1.save(\"lig.pdb\")"
      ],
      "metadata": {
        "id": "OuQNY4QZ5f_7"
      },
      "execution_count": null,
      "outputs": []
    },
    {
      "cell_type": "code",
      "source": [
        "!smina -r rec.pdb -l mylibrary_p.sdf --autobox_ligand lig.pdb -o smina_out.sdf"
      ],
      "metadata": {
        "id": "ADfesPGfATRZ"
      },
      "execution_count": null,
      "outputs": []
    },
    {
      "cell_type": "code",
      "source": [],
      "metadata": {
        "id": "dZ4PhXlUC1X6"
      },
      "execution_count": null,
      "outputs": []
    },
    {
      "cell_type": "markdown",
      "source": [
        "# How did it go?\n",
        "\n",
        "Now load the SDF results (note that they are sorted by decreasing score) together with the target.\n",
        "\n",
        "Compare e.g. with the experimental pose of aspirin in 1EQG (ovine). Make sure to align the proteins.\n",
        "\n"
      ],
      "metadata": {
        "id": "p0YeFvWR-2aB"
      }
    },
    {
      "cell_type": "markdown",
      "source": [
        "# Now with flexible docking"
      ],
      "metadata": {
        "id": "G7xp0Gp1ACjA"
      }
    },
    {
      "cell_type": "code",
      "source": [
        "!smina --help"
      ],
      "metadata": {
        "id": "e18vMbU5AD34"
      },
      "execution_count": null,
      "outputs": []
    },
    {
      "cell_type": "code",
      "source": [
        "# Too slow to run during the class\n",
        "# !smina -r rec.pdb -l mylibrary_p.sdf --autobox_ligand lig.pdb --flexdist 4 --flexdist_ligand lig.pdb -o smina_out_flex.sdf"
      ],
      "metadata": {
        "id": "hYzMXPyYAFeA"
      },
      "execution_count": null,
      "outputs": []
    },
    {
      "cell_type": "code",
      "source": [],
      "metadata": {
        "id": "P86oUZN5APM6"
      },
      "execution_count": null,
      "outputs": []
    },
    {
      "cell_type": "code",
      "source": [],
      "metadata": {
        "id": "XCkuniL2CQ64"
      },
      "execution_count": null,
      "outputs": []
    },
    {
      "cell_type": "code",
      "source": [],
      "metadata": {
        "id": "4gyPPXZlCQ88"
      },
      "execution_count": null,
      "outputs": []
    },
    {
      "cell_type": "markdown",
      "source": [
        "# Random notes\n",
        "\n",
        "Some tutorials insist on the pdbqt format. However this seems to be immaterial. To start, smina does not read charges from files.\n",
        "\n",
        "```\n",
        "!obabel rec.pdb -p7 -xr -O rec.pdbqt\n",
        "!obabel lig.pdb -p7 -O lig.pdbqt\n",
        "!obabel mylibrary_p.sdf -p7 -O mylibrary_p.pdbqt\n",
        "\n",
        "!smina -r rec.pdbqt -l mylibrary_p.sdf --autobox_ligand lig.pdb -o smina_out_q.sdf\n",
        "```\n",
        "\n",
        "\n"
      ],
      "metadata": {
        "id": "iQirEmrUEMVa"
      }
    },
    {
      "cell_type": "code",
      "source": [
        "!obabel '-:CC(C)Cc1ccc(cc1)[C@H](C)C(=O)O' --gen3D -p7 -O temp.pdbqt --partialcharge eem\n",
        "!cat temp.pdbqt"
      ],
      "metadata": {
        "id": "-up2oBULEYRS"
      },
      "execution_count": null,
      "outputs": []
    },
    {
      "cell_type": "code",
      "source": [
        "!obabel -L charges"
      ],
      "metadata": {
        "id": "7A63jcHbEwGf"
      },
      "execution_count": null,
      "outputs": []
    },
    {
      "cell_type": "code",
      "source": [
        "# Unused. Emergency way to filter stuff\n",
        "\"\"\"\n",
        "!grep -v HETATM 3LN1.pdb > rec.pdb\n",
        "!grep \"CEL A\" 3LN1.pdb > lig.pdb\n",
        "\"\"\""
      ],
      "metadata": {
        "id": "z6Gl5D8N_8gu"
      },
      "execution_count": null,
      "outputs": []
    },
    {
      "cell_type": "code",
      "source": [
        "# Openbabel can also add properties\n",
        "!obabel mylibrary.sdf -O test.sdf --gen3D -p7  --add cansmi\n",
        "!cat test.sdf"
      ],
      "metadata": {
        "id": "nMvB5DizIuML"
      },
      "execution_count": null,
      "outputs": []
    },
    {
      "cell_type": "code",
      "source": [
        "!obabel -L descriptors"
      ],
      "metadata": {
        "id": "XitROuRTGu0V"
      },
      "execution_count": null,
      "outputs": []
    },
    {
      "cell_type": "code",
      "source": [],
      "metadata": {
        "id": "Z1B1wQXlK-ca"
      },
      "execution_count": null,
      "outputs": []
    }
  ],
  "metadata": {
    "colab": {
      "provenance": [],
      "gpuType": "T4"
    },
    "kernelspec": {
      "display_name": "Python 3",
      "name": "python3"
    },
    "language_info": {
      "name": "python"
    },
    "accelerator": "GPU"
  },
  "nbformat": 4,
  "nbformat_minor": 0
}