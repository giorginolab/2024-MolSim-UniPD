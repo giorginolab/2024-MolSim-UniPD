{
 "cells": [
  {
   "cell_type": "code",
   "execution_count": null,
   "metadata": {},
   "outputs": [],
   "source": [
    "# A quick test\n",
    "import openmm.testInstallation\n",
    "openmm.testInstallation.main()"
   ]
  },
  {
   "cell_type": "code",
   "execution_count": null,
   "metadata": {},
   "outputs": [],
   "source": [
    "!(cd /usr/local/share/openmm/examples; python benchmark.py)"
   ]
  },
  {
   "cell_type": "code",
   "execution_count": null,
   "metadata": {},
   "outputs": [],
   "source": [
    "# A more realistic benchmark. Note the \"ns_per_day\" figure\n",
    "!(cd /usr/local/share/openmm/examples; python benchmark.py --platform CUDA --test pme --seconds 5  --precision mixed)"
   ]
  },
  {
   "cell_type": "code",
   "execution_count": null,
   "metadata": {},
   "outputs": [],
   "source": []
  }
 ],
 "metadata": {
  "language_info": {
   "name": "python"
  }
 },
 "nbformat": 4,
 "nbformat_minor": 2
}
