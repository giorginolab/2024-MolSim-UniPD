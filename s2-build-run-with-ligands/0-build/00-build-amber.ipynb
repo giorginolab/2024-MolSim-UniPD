{
 "cells": [
  {
   "cell_type": "markdown",
   "metadata": {},
   "source": [
    "# Build and run a system with a non-peptide drug\n",
    "\n",
    "* Prepare the system splitting its components, using https://www.mdtraj.org/1.9.8.dev0/index.html\n",
    "* Parameterize the drug, https://ambermd.org/tutorials/basic/tutorial4b/\n",
    "* Use tleap (part of ambertools) to build\n",
    "* Use miniomm to run"
   ]
  },
  {
   "cell_type": "code",
   "execution_count": 1,
   "metadata": {},
   "outputs": [
    {
     "name": "stdout",
     "output_type": "stream",
     "text": [
      "/Users/toni/Apps/anaconda-m1/envs/openmm/bin/antechamber\n"
     ]
    }
   ],
   "source": [
    "# Check availability\n",
    "\n",
    "!which antechamber"
   ]
  },
  {
   "cell_type": "code",
   "execution_count": 2,
   "metadata": {},
   "outputs": [
    {
     "name": "stdout",
     "output_type": "stream",
     "text": [
      "HEADER    TRANSFERASE                             09-APR-08   3CS9              \n",
      "TITLE     HUMAN ABL KINASE IN COMPLEX WITH NILOTINIB                            \n",
      "COMPND    MOL_ID: 1;                                                            \n",
      "COMPND   2 MOLECULE: PROTO-ONCOGENE TYROSINE-PROTEIN KINASE ABL1;               \n",
      "COMPND   3 CHAIN: A, B, C, D;                                                   \n",
      "COMPND   4 FRAGMENT: KINASE DOMAIN (UNP RESIDUES 229-500);                      \n",
      "COMPND   5 SYNONYM: P150, C-ABL, ABELSON MURINE LEUKEMIA VIRAL ONCOGENE HOMOLOG \n",
      "COMPND   6 1;                                                                   \n",
      "COMPND   7 EC: 2.7.10.2;                                                        \n",
      "COMPND   8 ENGINEERED: YES                                                      \n"
     ]
    }
   ],
   "source": [
    "# Split into chains. Check the one with the most modelled residues.\n",
    "# In this particular case, the PDB contains 4 chains with the same sequence, all bound to NIL (nilotinib).\n",
    "\n",
    "!head 3CS9.pdb"
   ]
  },
  {
   "cell_type": "code",
   "execution_count": 3,
   "metadata": {},
   "outputs": [],
   "source": [
    "import mdtraj as mdt\n",
    "\n",
    "pdb = mdt.load(\"3CS9.pdb\")"
   ]
  },
  {
   "cell_type": "code",
   "execution_count": 4,
   "metadata": {},
   "outputs": [
    {
     "data": {
      "text/plain": [
       "12"
      ]
     },
     "execution_count": 4,
     "metadata": {},
     "output_type": "execute_result"
    }
   ],
   "source": [
    "pdb.n_chains"
   ]
  },
  {
   "cell_type": "code",
   "execution_count": 5,
   "metadata": {},
   "outputs": [
    {
     "name": "stdout",
     "output_type": "stream",
     "text": [
      "Chain 0 has 264 residues and 2142 atoms.\n",
      "  First residue is ASP233\n",
      "Chain 1 has 247 residues and 2021 atoms.\n",
      "  First residue is ASP233\n",
      "Chain 2 has 243 residues and 1984 atoms.\n",
      "  First residue is TYR232\n",
      "Chain 3 has 263 residues and 2115 atoms.\n",
      "  First residue is ASP233\n",
      "Chain 4 has 1 residues and 39 atoms.\n",
      "  First residue is NIL600\n",
      "Chain 5 has 1 residues and 39 atoms.\n",
      "  First residue is NIL600\n",
      "Chain 6 has 1 residues and 39 atoms.\n",
      "  First residue is NIL600\n",
      "Chain 7 has 1 residues and 39 atoms.\n",
      "  First residue is NIL600\n",
      "Chain 8 has 99 residues and 99 atoms.\n",
      "  First residue is HOH601\n",
      "Chain 9 has 79 residues and 79 atoms.\n",
      "  First residue is HOH601\n",
      "Chain 10 has 63 residues and 63 atoms.\n",
      "  First residue is HOH601\n",
      "Chain 11 has 25 residues and 25 atoms.\n",
      "  First residue is HOH601\n"
     ]
    }
   ],
   "source": [
    "for i,c in enumerate(pdb.topology.chains):\n",
    "    print(f\"Chain {i} has {c.n_residues} residues and {c.n_atoms} atoms.\")\n",
    "    r1 = c.residue(0)\n",
    "    print(f\"  First residue is {r1}\")"
   ]
  },
  {
   "cell_type": "markdown",
   "metadata": {},
   "source": [
    "Ok. So the best chain is chain 0 with the corresponding ligand, chain 4. Extract them."
   ]
  },
  {
   "cell_type": "code",
   "execution_count": 6,
   "metadata": {},
   "outputs": [],
   "source": [
    "pdb.atom_slice(pdb.topology.select(\"chainid 0\")).save(\"chain0.pdb\")"
   ]
  },
  {
   "cell_type": "code",
   "execution_count": 7,
   "metadata": {},
   "outputs": [],
   "source": [
    "# Saving the NIL.pdb from mdtraj works but has wrong connectivity. Do it another way\n",
    "nil=pdb.atom_slice(pdb.topology.select(\"chainid 4\"))"
   ]
  },
  {
   "cell_type": "code",
   "execution_count": 8,
   "metadata": {},
   "outputs": [],
   "source": [
    "! grep \"NIL A\" 3CS9.pdb > NIL.pdb"
   ]
  },
  {
   "cell_type": "markdown",
   "metadata": {},
   "source": [
    "## Model the ligand\n",
    "\n",
    "Here we use antechamber (AmberTools). See https://ambermd.org/AmberTools.php .\n",
    "Several steps are involved, mostly format conversion and bond detection.\n",
    "\n",
    "Determine the charge of the molecules."
   ]
  },
  {
   "cell_type": "code",
   "execution_count": 9,
   "metadata": {},
   "outputs": [
    {
     "name": "stdout",
     "output_type": "stream",
     "text": [
      "Processing file: \"NIL.pdb\"\n",
      "Building or keeping OH & SH Hydrogens.\n",
      "WARNING: atom H27A from NIL will be treated as hydrogen\n",
      "WARNING: atom H27B from NIL will be treated as hydrogen\n",
      "WARNING: atom H27A from NIL will be treated as hydrogen\n",
      "WARNING: atom H27A from NIL will be treated as hydrogen\n",
      "WARNING: atom H27B from NIL will be treated as hydrogen\n",
      "WARNING: atom H27B from NIL will be treated as hydrogen\n",
      "WARNING: atom H27A from NIL will be treated as hydrogen\n",
      "WARNING: atom H27B from NIL will be treated as hydrogen\n",
      "WARNING: atom HN14 from NIL will be treated as hydrogen\n",
      "WARNING: atom HN14 from NIL will be treated as hydrogen\n",
      "WARNING: atom HN31 from NIL will be treated as hydrogen\n",
      "WARNING: atom HN31 from NIL will be treated as hydrogen\n",
      "WARNING: atom HN31 from NIL will be treated as hydrogen\n",
      "WARNING: atom HN14 from NIL will be treated as hydrogen\n",
      "WARNING: atom H27B from NIL will be treated as hydrogen\n",
      "WARNING: atom H27B from NIL will be treated as hydrogen\n",
      "WARNING: atom H27A from NIL will be treated as hydrogen\n",
      "WARNING: atom H27A from NIL will be treated as hydrogen\n",
      "WARNING: atom H27B from NIL will be treated as hydrogen\n",
      "WARNING: atom H27A from NIL will be treated as hydrogen\n",
      "WARNING: atom H27B from NIL will be treated as hydrogen\n",
      "WARNING: atom H27A from NIL will be treated as hydrogen\n",
      "VDW dot density = 16/A^2\n",
      "Probe radius = 0.25A\n",
      "Orientation penalty scale = 1 (100%)\n",
      "Eliminate contacts within 3 bonds.\n",
      "Ignore atoms with |occupancy| <= 0.01 during adjustments.\n",
      "Waters ignored if B-Factor >= 40 or |occupancy| < 0.66\n",
      "Aromatic rings in amino acids accept hydrogen bonds.\n",
      "Rotating NH3 Hydrogens.\n",
      "Not processing Met methyls.\n",
      " Singles(size 2): A 600 NIL C27 : A 600 NIL C58 \n",
      " orientation 2: A 600 NIL C27 :methyl  -30: bump=-0.355, HB=0.000, total=0.304\n",
      " orientation 1: A 600 NIL C58 :methyl  150: bump=0.000, HB=0.000, total=0.000\n",
      "Found 0 hydrogens (0 hets)\n",
      "Standardized 0 hydrogens (0 hets)\n",
      "Added 22 hydrogens (22 hets)\n",
      "Adjusted 1 group(s)\n",
      "If you publish work which uses reduce, please cite:\n",
      "Word, et. al. (1999) J. Mol. Biol. 285, 1735-1747.\n",
      "For more information see http://kinemage.biochem.duke.edu\n"
     ]
    }
   ],
   "source": [
    "! reduce NIL.pdb > NIL_r.pdb"
   ]
  },
  {
   "cell_type": "code",
   "execution_count": 10,
   "metadata": {},
   "outputs": [],
   "source": [
    "# Really slow\n",
    "# ! antechamber -fi pdb -i NIL_r.pdb -fo mol2 -o NIL_r.mol2 -at gaff -c bcc -pf y \n",
    "!cp NIL_r_precomputed.mol2 NIL_r.mol2"
   ]
  },
  {
   "cell_type": "code",
   "execution_count": 11,
   "metadata": {},
   "outputs": [],
   "source": [
    "! parmchk2 -i NIL_r.mol2 -s gaff2 -f mol2 -o NIL.frcmod"
   ]
  },
  {
   "cell_type": "code",
   "execution_count": null,
   "metadata": {},
   "outputs": [],
   "source": []
  },
  {
   "cell_type": "code",
   "execution_count": 12,
   "metadata": {},
   "outputs": [
    {
     "name": "stdout",
     "output_type": "stream",
     "text": [
      "Collecting git+https://github.com/giorginolab/miniomm\n",
      "  Cloning https://github.com/giorginolab/miniomm to /private/var/folders/qz/7p0f8wdj4zdd8nwxm89xzhy80000gn/T/pip-req-build-w14i8hfm\n",
      "  Running command git clone --filter=blob:none --quiet https://github.com/giorginolab/miniomm /private/var/folders/qz/7p0f8wdj4zdd8nwxm89xzhy80000gn/T/pip-req-build-w14i8hfm\n",
      "  Resolved https://github.com/giorginolab/miniomm to commit 4517ee3b57d36abc3c355cfbc423b81c5bca24e6\n",
      "  Installing build dependencies ... \u001b[?25ldone\n",
      "\u001b[?25h  Getting requirements to build wheel ... \u001b[?25ldone\n",
      "\u001b[?25h  Preparing metadata (pyproject.toml) ... \u001b[?25ldone\n",
      "\u001b[?25h"
     ]
    }
   ],
   "source": [
    "!pip install git+https://github.com/giorginolab/miniomm"
   ]
  },
  {
   "cell_type": "code",
   "execution_count": null,
   "metadata": {},
   "outputs": [],
   "source": []
  },
  {
   "cell_type": "code",
   "execution_count": 14,
   "metadata": {},
   "outputs": [
    {
     "name": "stdout",
     "output_type": "stream",
     "text": [
      "source leaprc.protein.ff19SB\n",
      "source leaprc.gaff2\n",
      "source leaprc.water.tip3p\n",
      "# source frcmod.ionsjc_tip3p\n",
      "\n",
      "chain0 = loadpdb chain0.pdb\n",
      "check chain0\n",
      "\n",
      "NIL = loadmol2 NIL_r.mol2\n",
      "loadamberparams NIL.frcmod\n",
      "check NIL\n",
      "\n",
      "cpx = combine { chain0 NIL }\n",
      "\n",
      "solvatebox cpx TIP3PBOX 12 iso\n",
      "check cpx\n",
      "\n",
      "# Total charge is -7\n",
      "\n",
      "addions cpx Na+ 27 Cl- 20\n",
      "\n",
      "# Total charge is now ~0\n",
      "\n",
      "relax cpx\n",
      "saveamberparm cpx cpx.prmtop cpx.rst7\n",
      "savepdb cpx cpx.pdb\n",
      "\n",
      "quit\n",
      "\n",
      "\n",
      "\n"
     ]
    }
   ],
   "source": [
    "%cat leap.in"
   ]
  },
  {
   "cell_type": "code",
   "execution_count": 15,
   "metadata": {},
   "outputs": [
    {
     "name": "stdout",
     "output_type": "stream",
     "text": [
      "-I: Adding /Users/toni/Apps/anaconda-m1/envs/openmm/dat/leap/prep to search path.\n",
      "-I: Adding /Users/toni/Apps/anaconda-m1/envs/openmm/dat/leap/lib to search path.\n",
      "-I: Adding /Users/toni/Apps/anaconda-m1/envs/openmm/dat/leap/parm to search path.\n",
      "-I: Adding /Users/toni/Apps/anaconda-m1/envs/openmm/dat/leap/cmd to search path.\n",
      "-f: Source leap.in.\n",
      "\n",
      "Welcome to LEaP!\n",
      "(no leaprc in search path)\n",
      "Sourcing: ./leap.in\n",
      "----- Source: /Users/toni/Apps/anaconda-m1/envs/openmm/dat/leap/cmd/leaprc.protein.ff19SB\n",
      "----- Source of /Users/toni/Apps/anaconda-m1/envs/openmm/dat/leap/cmd/leaprc.protein.ff19SB done\n",
      "Log file: ./leap.log\n",
      "Loading parameters: /Users/toni/Apps/anaconda-m1/envs/openmm/dat/leap/parm/parm19.dat\n",
      "Reading title:\n",
      "PARM99 + frcmod.ff99SB + frcmod.parmbsc0 + OL3 for RNA + ff19SB\n",
      "Loading parameters: /Users/toni/Apps/anaconda-m1/envs/openmm/dat/leap/parm/frcmod.ff19SB\n",
      "Reading force field modification type file (frcmod)\n",
      "Reading title:\n",
      "ff19SB AA-specific backbone CMAPs for protein 07/25/2019\n",
      "Loading library: /Users/toni/Apps/anaconda-m1/envs/openmm/dat/leap/lib/amino19.lib\n",
      "Loading library: /Users/toni/Apps/anaconda-m1/envs/openmm/dat/leap/lib/aminoct12.lib\n",
      "Loading library: /Users/toni/Apps/anaconda-m1/envs/openmm/dat/leap/lib/aminont12.lib\n",
      "----- Source: /Users/toni/Apps/anaconda-m1/envs/openmm/dat/leap/cmd/leaprc.gaff2\n",
      "----- Source of /Users/toni/Apps/anaconda-m1/envs/openmm/dat/leap/cmd/leaprc.gaff2 done\n",
      "Log file: ./leap.log\n",
      "Loading parameters: /Users/toni/Apps/anaconda-m1/envs/openmm/dat/leap/parm/gaff2.dat\n",
      "Reading title:\n",
      "AMBER General Force Field for organic molecules (Version 2.2.20, March 2021)\n",
      "----- Source: /Users/toni/Apps/anaconda-m1/envs/openmm/dat/leap/cmd/leaprc.water.tip3p\n",
      "----- Source of /Users/toni/Apps/anaconda-m1/envs/openmm/dat/leap/cmd/leaprc.water.tip3p done\n",
      "Loading library: /Users/toni/Apps/anaconda-m1/envs/openmm/dat/leap/lib/atomic_ions.lib\n",
      "Loading library: /Users/toni/Apps/anaconda-m1/envs/openmm/dat/leap/lib/solvents.lib\n",
      "Loading parameters: /Users/toni/Apps/anaconda-m1/envs/openmm/dat/leap/parm/frcmod.tip3p\n",
      "Reading force field modification type file (frcmod)\n",
      "Reading title:\n",
      "This is the additional/replacement parameter set for TIP3P water\n",
      "Loading parameters: /Users/toni/Apps/anaconda-m1/envs/openmm/dat/leap/parm/frcmod.ions1lm_126_tip3p\n",
      "Reading force field modification type file (frcmod)\n",
      "Reading title:\n",
      "Li/Merz ion parameters of monovalent ions for TIP3P water model (12-6 normal usage set)\n",
      "Loading parameters: /Users/toni/Apps/anaconda-m1/envs/openmm/dat/leap/parm/frcmod.ionsjc_tip3p\n",
      "Reading force field modification type file (frcmod)\n",
      "Reading title:\n",
      "Monovalent ion parameters for Ewald and TIP3P water from Joung & Cheatham JPCB (2008)\n",
      "Loading parameters: /Users/toni/Apps/anaconda-m1/envs/openmm/dat/leap/parm/frcmod.ions234lm_126_tip3p\n",
      "Reading force field modification type file (frcmod)\n",
      "Reading title:\n",
      "Li/Merz ion parameters of divalent to tetravalent ions for TIP3P water model (12-6 normal usage set)\n",
      "Loading PDB file: ./chain0.pdb\n",
      "  Added missing heavy atom: .R<GLU 458>.A<CG 8>\n",
      "  Added missing heavy atom: .R<GLU 458>.A<CD 11>\n",
      "  Added missing heavy atom: .R<GLU 458>.A<OE1 12>\n",
      "  Added missing heavy atom: .R<GLU 458>.A<OE2 13>\n",
      "  Added missing heavy atom: .R<GLU 490>.A<CD 11>\n",
      "  Added missing heavy atom: .R<GLU 490>.A<OE1 12>\n",
      "  Added missing heavy atom: .R<GLU 490>.A<OE2 13>\n",
      "  Added missing heavy atom: .R<GLN 494>.A<CG 8>\n",
      "  Added missing heavy atom: .R<GLN 494>.A<CD 11>\n",
      "  Added missing heavy atom: .R<GLN 494>.A<OE1 12>\n",
      "  Added missing heavy atom: .R<GLN 494>.A<NE2 13>\n",
      "  total atoms in file: 2142\n",
      "  Leap added 2126 missing atoms according to residue templates:\n",
      "       11 Heavy\n",
      "       2115 H / lone pairs\n",
      "Checking 'chain0'....\n",
      "\n",
      "/Users/toni/Apps/anaconda-m1/envs/openmm/bin/teLeap: Warning!\n",
      "There is a bond of 9.397 angstroms between C and N atoms:\n",
      "-------  .R<LYS 274>.A<C 21> and .R<GLU 275>.A<N 1>\n",
      "\n",
      "/Users/toni/Apps/anaconda-m1/envs/openmm/bin/teLeap: Warning!\n",
      "The unperturbed charge of the unit (-7.000000) is not zero.\n",
      "\n",
      "/Users/toni/Apps/anaconda-m1/envs/openmm/bin/teLeap: Warning!\n",
      "Close contact of 1.490 angstroms between nonbonded atoms OE1 and HH\n",
      "-------  .R<GLU 255>.A<OE1 12> and .R<TYR 257>.A<HH 15>\n",
      "\n",
      "/Users/toni/Apps/anaconda-m1/envs/openmm/bin/teLeap: Warning!\n",
      "Close contact of 1.228 angstroms between nonbonded atoms HZ1 and HH\n",
      "-------  .R<LYS 263>.A<HZ1 18> and .R<TYR 264>.A<HH 15>\n",
      "\n",
      "/Users/toni/Apps/anaconda-m1/envs/openmm/bin/teLeap: Warning!\n",
      "Close contact of 1.437 angstroms between nonbonded atoms HE and HH\n",
      "-------  .R<ARG 363>.A<HE 15> and .R<TYR 389>.A<HH 15>\n",
      "Checking parameters for unit 'chain0'.\n",
      "Checking for bond parameters.\n",
      "Checking for angle parameters.\n",
      "check:  Warnings: 5\n",
      "Unit is OK.\n",
      "Loading Mol2 file: ./NIL_r.mol2\n",
      "Reading MOLECULE named NIL\n",
      "Loading parameters: ./NIL.frcmod\n",
      "Reading force field modification type file (frcmod)\n",
      "Reading title:\n",
      "Remark line goes here\n",
      "Checking 'NIL'....\n",
      "Checking parameters for unit 'NIL'.\n",
      "Checking for bond parameters.\n",
      "Checking for angle parameters.\n",
      "Unit is OK.\n",
      "  Solute vdw bounding box:              41.361 64.198 49.413\n",
      "  Total bounding box for atom centers:  88.198 88.198 88.198\n",
      "      (box expansion for 'iso' is  62.1%)\n",
      "  Solvent unit box:                     18.774 18.774 18.774\n",
      "  Volume: 758411.775 A^3 \n",
      "  Total mass 383322.590 amu,  Density 0.839 g/cc\n",
      "  Added 19549 residues.\n",
      "Checking 'cpx'....\n",
      "\n",
      "/Users/toni/Apps/anaconda-m1/envs/openmm/bin/teLeap: Warning!\n",
      "There is a bond of 9.397 angstroms between C and N atoms:\n",
      "-------  .R<LYS 274>.A<C 21> and .R<GLU 275>.A<N 1>\n",
      "\n",
      "/Users/toni/Apps/anaconda-m1/envs/openmm/bin/teLeap: Warning!\n",
      "The unperturbed charge of the unit (-6.998000) is not zero.\n",
      "\n",
      "/Users/toni/Apps/anaconda-m1/envs/openmm/bin/teLeap: Warning!\n",
      "Close contact of 1.437 angstroms between nonbonded atoms HH and HE\n",
      "-------  .R<TYR 389>.A<HH 15> and .R<ARG 363>.A<HE 15>\n",
      "\n",
      "/Users/toni/Apps/anaconda-m1/envs/openmm/bin/teLeap: Warning!\n",
      "Close contact of 1.228 angstroms between nonbonded atoms HH and HZ1\n",
      "-------  .R<TYR 264>.A<HH 15> and .R<LYS 263>.A<HZ1 18>\n",
      "\n",
      "/Users/toni/Apps/anaconda-m1/envs/openmm/bin/teLeap: Warning!\n",
      "Close contact of 1.490 angstroms between nonbonded atoms HH and OE1\n",
      "-------  .R<TYR 257>.A<HH 15> and .R<GLU 255>.A<OE1 12>\n",
      "Checking parameters for unit 'cpx'.\n",
      "Checking for bond parameters.\n",
      "Checking for angle parameters.\n",
      "check:  Warnings: 5\n",
      "Unit is OK.\n",
      "Adding 47 counter ions to \"cpx\" using 1A grid\n",
      "Grid extends from solute vdw + 9.13  to  15.12\n",
      "Resolution:      1.00 Angstrom.\n",
      "Solvent present: replacing closest with ion\n",
      "\t when steric overlaps occur\n",
      "Calculating grid charges\n",
      "(Replacing solvent molecule)\n",
      "Placed Na+ in cpx at (-15.19, 26.19, -2.67).\n",
      "(Replacing solvent molecule)\n",
      "Placed Cl- in cpx at (-17.18, 30.60, -5.02).\n",
      "(Replacing solvent molecule)\n",
      "Placed Na+ in cpx at (-17.46, 33.38, -7.15).\n",
      "(Replacing solvent molecule)\n",
      "Placed Cl- in cpx at (-15.59, 32.91, -11.29).\n",
      "(Replacing solvent molecule)\n",
      "Placed Na+ in cpx at (-15.80, 32.83, -14.76).\n",
      "(Replacing solvent molecule)\n",
      "Placed Cl- in cpx at (-13.43, 33.30, -18.34).\n",
      "(Replacing solvent molecule)\n",
      "Placed Na+ in cpx at (-10.36, 32.74, -17.95).\n",
      "(Replacing solvent molecule)\n",
      "Placed Cl- in cpx at (-6.90, 34.16, -17.34).\n",
      "(Replacing solvent molecule)\n",
      "Placed Na+ in cpx at (-2.70, 35.20, -18.25).\n",
      "(Replacing solvent molecule)\n",
      "Placed Cl- in cpx at (0.85, 38.38, -18.28).\n",
      "(Replacing solvent molecule)\n",
      "Placed Na+ in cpx at (3.94, 37.30, -14.21).\n",
      "(Replacing solvent molecule)\n",
      "Placed Cl- in cpx at (1.45, 42.10, -12.30).\n",
      "(Replacing solvent molecule)\n",
      "Placed Na+ in cpx at (0.78, 43.50, -7.74).\n",
      "(Replacing solvent molecule)\n",
      "Placed Cl- in cpx at (4.97, 36.40, -10.13).\n",
      "(Replacing solvent molecule)\n",
      "Placed Na+ in cpx at (3.54, 37.91, -6.63).\n",
      "(Replacing solvent molecule)\n",
      "Placed Cl- in cpx at (2.72, 36.60, -1.39).\n",
      "(Replacing solvent molecule)\n",
      "Placed Na+ in cpx at (-3.96, 41.45, -13.99).\n",
      "(Replacing solvent molecule)\n",
      "Placed Cl- in cpx at (-1.47, 40.60, -8.43).\n",
      "(Replacing solvent molecule)\n",
      "Placed Na+ in cpx at (-0.05, 37.64, -8.69).\n",
      "(Replacing solvent molecule)\n",
      "Placed Cl- in cpx at (1.97, 39.95, -3.71).\n",
      "(Replacing solvent molecule)\n",
      "Placed Na+ in cpx at (5.43, 36.94, -1.47).\n",
      "(Replacing solvent molecule)\n",
      "Placed Cl- in cpx at (10.47, 37.26, -1.62).\n",
      "(Replacing solvent molecule)\n",
      "Placed Na+ in cpx at (10.19, 36.84, -7.78).\n",
      "(Replacing solvent molecule)\n",
      "Placed Cl- in cpx at (12.44, 36.02, -9.87).\n",
      "(Replacing solvent molecule)\n",
      "Placed Na+ in cpx at (10.11, 40.64, -6.34).\n",
      "(Replacing solvent molecule)\n",
      "Placed Cl- in cpx at (8.25, 39.03, -8.69).\n",
      "(Replacing solvent molecule)\n",
      "Placed Na+ in cpx at (7.53, 36.12, -12.84).\n",
      "(Replacing solvent molecule)\n",
      "Placed Cl- in cpx at (7.66, 38.74, -12.96).\n",
      "(Replacing solvent molecule)\n",
      "Placed Na+ in cpx at (11.68, 36.84, -13.18).\n",
      "(Replacing solvent molecule)\n",
      "Placed Cl- in cpx at (-0.74, 39.02, -14.17).\n",
      "(Replacing solvent molecule)\n",
      "Placed Na+ in cpx at (0.29, 41.05, 0.50).\n",
      "(Replacing solvent molecule)\n",
      "Placed Cl- in cpx at (6.13, 39.21, 0.83).\n",
      "(Replacing solvent molecule)\n",
      "Placed Na+ in cpx at (5.79, 41.48, -3.50).\n",
      "(Replacing solvent molecule)\n",
      "Placed Cl- in cpx at (8.14, 36.97, -3.70).\n",
      "(Replacing solvent molecule)\n",
      "Placed Na+ in cpx at (10.40, 37.88, 8.01).\n",
      "(Replacing solvent molecule)\n",
      "Placed Cl- in cpx at (-4.10, 34.99, -21.52).\n",
      "(Replacing solvent molecule)\n",
      "Placed Na+ in cpx at (1.33, 37.11, -22.92).\n",
      "(Replacing solvent molecule)\n",
      "Placed Cl- in cpx at (15.60, 20.71, -34.58).\n",
      "(Replacing solvent molecule)\n",
      "Placed Na+ in cpx at (10.05, 39.70, 1.95).\n",
      "(Replacing solvent molecule)\n",
      "Placed Cl- in cpx at (10.11, 40.74, 4.49).\n",
      "(Replacing solvent molecule)\n",
      "Placed Na+ in cpx at (14.10, 19.15, -31.52).\n",
      "(Replacing solvent molecule)\n",
      "Placed Na+ in cpx at (-8.31, 37.26, -20.39).\n",
      "(Replacing solvent molecule)\n",
      "Placed Na+ in cpx at (3.89, 39.66, -16.03).\n",
      "(Replacing solvent molecule)\n",
      "Placed Na+ in cpx at (12.41, 36.53, -3.86).\n",
      "(Replacing solvent molecule)\n",
      "Placed Na+ in cpx at (6.18, 40.98, 4.41).\n",
      "(Replacing solvent molecule)\n",
      "Placed Na+ in cpx at (-14.96, 28.58, -9.30).\n",
      "(Replacing solvent molecule)\n",
      "Placed Na+ in cpx at (18.04, 20.24, -32.94).\n",
      "\n",
      "Done adding ions.\n",
      "Checking Unit.\n",
      "\n",
      "/Users/toni/Apps/anaconda-m1/envs/openmm/bin/teLeap: Warning!\n",
      "There is a bond of 9.397 angstroms between C and N atoms:\n",
      "-------  .R<LYS 274>.A<C 21> and .R<GLU 275>.A<N 1>\n",
      "\n",
      "/Users/toni/Apps/anaconda-m1/envs/openmm/bin/teLeap: Note.\n",
      "Ignoring the warning from Unit Checking.\n",
      "\n",
      "Building topology.\n",
      "Building atom parameters.\n",
      "Building bond parameters.\n",
      "Building angle parameters.\n",
      "Building proper torsion parameters.\n",
      "Building improper torsion parameters.\n",
      " total 913 improper torsions applied\n",
      "Building H-Bond parameters.\n",
      "Incorporating Non-Bonded adjustments.\n",
      "Not Marking per-residue atom chain types.\n",
      "Marking per-residue atom chain types.\n",
      "  (Residues lacking connect0/connect1 - \n",
      "   these don't have chain types marked:\n",
      "\n",
      "\tres\ttotal affected\n",
      "\n",
      "\tCSER\t1\n",
      "\tNASP\t1\n",
      "\tNIL\t1\n",
      "\tWAT\t19502\n",
      "  )\n",
      " (no restraints)\n",
      "Writing pdb file: cpx.pdb\n",
      "   printing CRYST1 record to PDB file with box info\n",
      "\n",
      "/Users/toni/Apps/anaconda-m1/envs/openmm/bin/teLeap: Warning!\n",
      " Converting N-terminal residue name to PDB format: NASP -> ASP\n",
      "\n",
      "/Users/toni/Apps/anaconda-m1/envs/openmm/bin/teLeap: Warning!\n",
      " Converting C-terminal residue name to PDB format: CSER -> SER\n",
      "\tQuit\n",
      "\n",
      "Exiting LEaP: Errors = 0; Warnings = 13; Notes = 1.\n"
     ]
    }
   ],
   "source": [
    "!tleap -f leap.in"
   ]
  },
  {
   "cell_type": "markdown",
   "metadata": {},
   "source": []
  }
 ],
 "metadata": {
  "kernelspec": {
   "display_name": "openmm",
   "language": "python",
   "name": "python3"
  },
  "language_info": {
   "codemirror_mode": {
    "name": "ipython",
    "version": 3
   },
   "file_extension": ".py",
   "mimetype": "text/x-python",
   "name": "python",
   "nbconvert_exporter": "python",
   "pygments_lexer": "ipython3",
   "version": "3.11.0"
  }
 },
 "nbformat": 4,
 "nbformat_minor": 2
}
